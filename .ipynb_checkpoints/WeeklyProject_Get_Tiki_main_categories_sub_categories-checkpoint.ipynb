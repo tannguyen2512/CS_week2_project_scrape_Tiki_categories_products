{
 "cells": [
  {
   "cell_type": "markdown",
   "metadata": {
    "id": "s7FIFSid-9jk"
   },
   "source": [
    "# Crawling Tiki main categories and sub categories\n",
    "\n",
    "![alt text](data:image/jpeg;base64,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)\n",
    "\n",
    "This notebook will guide you to use python function recursively to crawl main categories. For each main categories, it will start to crawl links for sub categories. Recursively, each sub categories have deeper levels of sub categories( Main -> level 2 -> level 3 -> level 4 -> ... ? ) = How deep can it go -> Inception!!!\n",
    "\n",
    "![alt text](data:image/jpeg;base64,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)\n",
    "\n",
    "Since we don't know how many level of sub categories and how deep for each categories, we need to use recursion to solve this problem.\n",
    "\n",
    "All of these category links will be saved in a SQLite database.\n",
    "After crawling all categories (main and subs), you can use your previous weekly project function to crawl products for each of categories to get to get as many products as possible.\n",
    "\n",
    "At the end of the day, this notebook only crawl links of categories. Therefore, crawling products is your task for the weekly project."
   ]
  },
  {
   "cell_type": "code",
   "execution_count": 1,
   "metadata": {
    "colab": {
     "base_uri": "https://localhost:8080/"
    },
    "id": "wfv9JV9v5yDz",
    "outputId": "62ecc84e-dad8-453e-e27b-db5e31fde20c"
   },
   "outputs": [
    {
     "name": "stdout",
     "output_type": "stream",
     "text": [
      "Requirement already satisfied: selenium in /home/tannguyen/miniconda3/envs/cs_ftmle/lib/python3.7/site-packages (3.141.0)\n",
      "Requirement already satisfied: urllib3 in /home/tannguyen/miniconda3/envs/cs_ftmle/lib/python3.7/site-packages (from selenium) (1.26.4)\n",
      "\u001b[1;31mE: \u001b[0mCould not open lock file /var/lib/dpkg/lock-frontend - open (13: Permission denied)\u001b[0m\n",
      "\u001b[1;31mE: \u001b[0mUnable to acquire the dpkg frontend lock (/var/lib/dpkg/lock-frontend), are you root?\u001b[0m\n"
     ]
    }
   ],
   "source": [
    "# install selenium and other resources for crawling data\n",
    "!pip install selenium\n",
    "# install other resources for doing crawling\n",
    "!apt install chromium-chromedriver"
   ]
  },
  {
   "cell_type": "code",
   "execution_count": 2,
   "metadata": {
    "id": "hcxuJ-cW52Nh"
   },
   "outputs": [],
   "source": [
    "import requests\n",
    "from bs4 import BeautifulSoup\n",
    "import pandas as pd\n",
    "from time import sleep\n",
    "from random import randint\n",
    "import json\n",
    "import re\n",
    "import time\n",
    "\n",
    "from selenium import webdriver\n",
    "# Set driver for Chrome\n",
    "options = webdriver.ChromeOptions()\n",
    "options.add_argument('-headless') # since we run selenium on Google Colab so we don't want a chrome browser opens, so it will run in the background\n",
    "options.add_argument('-no-sandbox')"
   ]
  },
  {
   "cell_type": "code",
   "execution_count": 3,
   "metadata": {
    "id": "EEqO_Q0Y6W5m"
   },
   "outputs": [],
   "source": [
    "def get_url(url):\n",
    "    driver = webdriver.Chrome('chromedriver',options=options)        # Define the chrome drivers with setting options we define above    \n",
    "    # we let selenium to wait for 30 seconds for all javascript script done before return the result of HTML\n",
    "    # driver.implicitly_wait(30) \n",
    "    driver.get(url)                                             # Open the browser again to get web page\n",
    "    html_data = driver.page_source                                   # After driver.get() is done, you can get back HTML string by using .page_source\n",
    "    driver.close()                                                   # Close the driver after retrieving the web page\n",
    "    time.sleep(5)\n",
    "    soup = BeautifulSoup(html_data, 'html.parser') \n",
    "\n",
    "    return soup"
   ]
  },
  {
   "cell_type": "code",
   "execution_count": 4,
   "metadata": {
    "id": "7kGDMFk269GK"
   },
   "outputs": [],
   "source": [
    "def extract_tiki_info(url):\n",
    "  \"\"\" Extract info from all products of a specfic category on Tiki website\n",
    "      Input: url\n",
    "      Output: info of products, saved as list of dictionary. If no products shown, return empty list.\n",
    "  \"\"\"\n",
    "  data = []\n",
    "  index = 1\n",
    "  soup = get_url(url)\n",
    "\n",
    "  # FIND ALL PRODUCT ITEMS\n",
    "  products = soup.find_all('a', {'class':'product-item'})\n",
    "  all_script = soup.find_all('script', {'type':'application/ld+json'})\n",
    "  print(\"BATCH SIZE:\", len(products))\n",
    "\n",
    "  if (soup.find('div', {'class':'style__StyledNotFoundProductView-sc-1uz0b49-0'})):\n",
    "    print(\"END PAGE\")\n",
    "  elif len(products):\n",
    "    # EXTRACT INFO TO DICTIONARY\n",
    "    for i in products: \n",
    "      d = {'name':'','price':'','product_url':'','image':'', 'product_sku':'',\n",
    "           'tiki_now':'','freeship':'','review':'','rating':'','under_price':'',\n",
    "           'discount':'','installment':'','gift':''}\n",
    "      \n",
    "      try:\n",
    "        d['name']         = i.find('div',{'class' : 'name'}).text\n",
    "        d['price']        = int(re.sub('[. ₫]','', i.find('div',{'class':'price-discount__price'}).text))\n",
    "        d['product_url']  = 'https://tiki.vn' + i['href'] \n",
    "        thumbnail         = i.find('div',{'class':'thumbnail'})\n",
    "        d['image']        = thumbnail.img['src']        \n",
    "        d['tiki_now']     = bool(i.find('div',{'class':'badge-service'}).find('div',{'class':'item'})) \n",
    "        d['freeship']     = bool(i.find('div',{'class':'badge-top'}).text == \"Freeship\")\n",
    "        \n",
    "        if i.find('div',{'class':'review'}):\n",
    "          d['review']     = int(i.find('div',{'class':'review'}).text.strip('(').strip(')'))\n",
    "        else:\n",
    "          d['review'] = \"N/A\"\n",
    "        \n",
    "        d['under_price']  = bool(i.find('div',{'class':'badge-under-price'}).find('div',{'class':'item'}))\n",
    "\n",
    "        if i.find('div', {'class':'price-discount__discount'}):\n",
    "          d['discount']   = int(re.sub('[-%]','', i.find('div',{'class':'price-discount__discount'}).text))\n",
    "        else:\n",
    "          d['discount']   = \"N/A\"\n",
    "        \n",
    "        d['installment']  = bool(i.find('div',{'class':'badge-benefits'}).img)\n",
    "        d['gift']         = bool(i.find('div',{'class':'freegift-list'}))\n",
    "\n",
    "        script = all_script[index]\n",
    "        dict_content = json.loads(script.text)\n",
    "        d['product_sku']  = dict_content['sku']\n",
    "        \n",
    "        if 'aggregateRating' in dict_content:\n",
    "          d['rating']     = float(dict_content['aggregateRating']['ratingValue'])\n",
    "        else:\n",
    "          d['rating']     = \"N/A\"\n",
    "\n",
    "      except Exception as e:\n",
    "        print(e)\n",
    "\n",
    "      index += 1\n",
    "      data.append(d)\n",
    "        \n",
    "  return data"
   ]
  },
  {
   "cell_type": "code",
   "execution_count": 5,
   "metadata": {
    "id": "3pCLSyMv6nqv"
   },
   "outputs": [],
   "source": [
    "def scrape_tiki(base_url):\n",
    "  result = []\n",
    "  page_number = 1\n",
    "  main, opt = base_url.split('?')\n",
    "  \n",
    "  while True:\n",
    "    page = f'?page={page_number}&'\n",
    "    url = main+page+opt\n",
    "    print(\"url =\", url)\n",
    "    data = extract_tiki_info(url)\n",
    "    if len(data)>0:\n",
    "      result.extend(data)\n",
    "    else:\n",
    "      break\n",
    "    page_number += 1\n",
    "    sleep(randint(1,2))\n",
    "\n",
    "  print(\"****TOTAL = \",len(result))\n",
    "\n",
    "  items = pd.DataFrame(data = result, columns = result[0].keys())\n",
    "  items.to_csv(\"./result2.csv\", index=False)"
   ]
  },
  {
   "cell_type": "markdown",
   "metadata": {
    "id": "LAeSdUiM_H6O"
   },
   "source": [
    "# Function to do CRUD (create/ read/ update/ delete) on database"
   ]
  },
  {
   "cell_type": "code",
   "execution_count": 6,
   "metadata": {
    "id": "CkvNLB6W_T1j"
   },
   "outputs": [],
   "source": [
    "import sqlite3\n",
    "\n",
    "PATH_TO_DB = './'\n",
    "conn = sqlite3.connect(PATH_TO_DB+'tiki.db')\n",
    "cur = conn.cursor()"
   ]
  },
  {
   "cell_type": "code",
   "execution_count": 9,
   "metadata": {
    "id": "2c0NPXPF_Lfu"
   },
   "outputs": [],
   "source": [
    "# Create table categories in the database using a function\n",
    "def create_categories_table():\n",
    "    query = \"\"\"\n",
    "        CREATE TABLE IF NOT EXISTS categories (\n",
    "            id INTEGER PRIMARY KEY AUTOINCREMENT,\n",
    "            name VARCHAR(255),\n",
    "            url TEXT, \n",
    "            parent_id INTEGER, \n",
    "            create_at TIMESTAMP DEFAULT CURRENT_TIMESTAMP\n",
    "        )\n",
    "    \"\"\"\n",
    "    try:\n",
    "        cur.execute(query)\n",
    "        conn.commit()\n",
    "    except Exception as err:\n",
    "        print('ERROR BY CREATE TABLE', err)\n",
    "        \n",
    "create_categories_table()"
   ]
  },
  {
   "cell_type": "code",
   "execution_count": 10,
   "metadata": {
    "id": "iH7R_nu-CMB2"
   },
   "outputs": [],
   "source": [
    "def select_query(query,conn=conn):\n",
    "    return pd.read_sql_query(query, conn)"
   ]
  },
  {
   "cell_type": "code",
   "execution_count": 11,
   "metadata": {
    "colab": {
     "base_uri": "https://localhost:8080/"
    },
    "id": "Zog9M5iMBrSB",
    "outputId": "45f70ae0-eecd-406b-ea3f-93caa056ae30"
   },
   "outputs": [
    {
     "name": "stdout",
     "output_type": "stream",
     "text": [
      "16\n"
     ]
    }
   ],
   "source": [
    "# Insert a row of data to the table categories\n",
    "query = \"\"\"\n",
    "    INSERT INTO categories (name, url, parent_id)\n",
    "    VALUES (?, ?, ?);\n",
    "\"\"\"\n",
    "\n",
    "# query=\"\"\"\n",
    "#     DELETE FROM categories WHERE id=1;\n",
    "# \"\"\"\n",
    "\n",
    "val = ('Phone','phone.xyz', 5)\n",
    "\n",
    "try:\n",
    "    cur.execute(query, val)\n",
    "    cat_id = cur.lastrowid\n",
    "    print(cat_id)\n",
    "    conn.commit()\n",
    "\n",
    "except Exception as err:\n",
    "    print('ERROR BY INSERT:', err)"
   ]
  },
  {
   "cell_type": "code",
   "execution_count": 12,
   "metadata": {
    "colab": {
     "base_uri": "https://localhost:8080/",
     "height": 106
    },
    "id": "EIgnW5BgBtsJ",
    "outputId": "f8a7e091-38aa-4259-f7b4-324857f508af"
   },
   "outputs": [
    {
     "data": {
      "text/html": [
       "<div>\n",
       "<style scoped>\n",
       "    .dataframe tbody tr th:only-of-type {\n",
       "        vertical-align: middle;\n",
       "    }\n",
       "\n",
       "    .dataframe tbody tr th {\n",
       "        vertical-align: top;\n",
       "    }\n",
       "\n",
       "    .dataframe thead th {\n",
       "        text-align: right;\n",
       "    }\n",
       "</style>\n",
       "<table border=\"1\" class=\"dataframe\">\n",
       "  <thead>\n",
       "    <tr style=\"text-align: right;\">\n",
       "      <th></th>\n",
       "      <th>id</th>\n",
       "      <th>name</th>\n",
       "      <th>url</th>\n",
       "      <th>parent_id</th>\n",
       "      <th>create_at</th>\n",
       "    </tr>\n",
       "  </thead>\n",
       "  <tbody>\n",
       "    <tr>\n",
       "      <th>0</th>\n",
       "      <td>1</td>\n",
       "      <td>Điện Thoại - Máy Tính Bảng</td>\n",
       "      <td>https://tiki.vn/dien-thoai-may-tinh-bang/c1789...</td>\n",
       "      <td>NaN</td>\n",
       "      <td>2021-04-09 16:55:14</td>\n",
       "    </tr>\n",
       "    <tr>\n",
       "      <th>1</th>\n",
       "      <td>2</td>\n",
       "      <td>Điện Tử - Điện Lạnh</td>\n",
       "      <td>https://tiki.vn/tivi-thiet-bi-nghe-nhin/c4221?...</td>\n",
       "      <td>NaN</td>\n",
       "      <td>2021-04-09 16:55:14</td>\n",
       "    </tr>\n",
       "    <tr>\n",
       "      <th>2</th>\n",
       "      <td>3</td>\n",
       "      <td>Phụ Kiện - Thiết Bị Số</td>\n",
       "      <td>https://tiki.vn/thiet-bi-kts-phu-kien-so/c1815...</td>\n",
       "      <td>NaN</td>\n",
       "      <td>2021-04-09 16:55:14</td>\n",
       "    </tr>\n",
       "    <tr>\n",
       "      <th>3</th>\n",
       "      <td>4</td>\n",
       "      <td>Laptop - Thiết bị IT</td>\n",
       "      <td>https://tiki.vn/laptop-may-vi-tinh/c1846?src=c...</td>\n",
       "      <td>NaN</td>\n",
       "      <td>2021-04-09 16:55:14</td>\n",
       "    </tr>\n",
       "    <tr>\n",
       "      <th>4</th>\n",
       "      <td>5</td>\n",
       "      <td>Máy Ảnh - Quay Phim</td>\n",
       "      <td>https://tiki.vn/may-anh/c1801?src=c.1801.hambu...</td>\n",
       "      <td>NaN</td>\n",
       "      <td>2021-04-09 16:55:14</td>\n",
       "    </tr>\n",
       "    <tr>\n",
       "      <th>5</th>\n",
       "      <td>6</td>\n",
       "      <td>Điện Gia Dụng</td>\n",
       "      <td>https://tiki.vn/dien-gia-dung/c1882?src=c.1882...</td>\n",
       "      <td>NaN</td>\n",
       "      <td>2021-04-09 16:55:14</td>\n",
       "    </tr>\n",
       "    <tr>\n",
       "      <th>6</th>\n",
       "      <td>7</td>\n",
       "      <td>Nhà Cửa Đời Sống</td>\n",
       "      <td>https://tiki.vn/nha-cua-doi-song/c1883?src=c.1...</td>\n",
       "      <td>NaN</td>\n",
       "      <td>2021-04-09 16:55:14</td>\n",
       "    </tr>\n",
       "    <tr>\n",
       "      <th>7</th>\n",
       "      <td>8</td>\n",
       "      <td>Hàng Tiêu Dùng - Thực Phẩm</td>\n",
       "      <td>https://tiki.vn/bach-hoa-online/c4384?src=c.43...</td>\n",
       "      <td>NaN</td>\n",
       "      <td>2021-04-09 16:55:14</td>\n",
       "    </tr>\n",
       "    <tr>\n",
       "      <th>8</th>\n",
       "      <td>9</td>\n",
       "      <td>Đồ chơi, Mẹ &amp; Bé</td>\n",
       "      <td>https://tiki.vn/me-va-be/c2549?src=c.2549.hamb...</td>\n",
       "      <td>NaN</td>\n",
       "      <td>2021-04-09 16:55:14</td>\n",
       "    </tr>\n",
       "    <tr>\n",
       "      <th>9</th>\n",
       "      <td>10</td>\n",
       "      <td>Làm Đẹp - Sức Khỏe</td>\n",
       "      <td>https://tiki.vn/lam-dep-suc-khoe/c1520?src=c.1...</td>\n",
       "      <td>NaN</td>\n",
       "      <td>2021-04-09 16:55:14</td>\n",
       "    </tr>\n",
       "    <tr>\n",
       "      <th>10</th>\n",
       "      <td>11</td>\n",
       "      <td>Thể Thao - Dã Ngoại</td>\n",
       "      <td>https://tiki.vn/the-thao/c1975?src=c.1975.hamb...</td>\n",
       "      <td>NaN</td>\n",
       "      <td>2021-04-09 16:55:14</td>\n",
       "    </tr>\n",
       "    <tr>\n",
       "      <th>11</th>\n",
       "      <td>12</td>\n",
       "      <td>Xe Máy, Ô tô, Xe Đạp</td>\n",
       "      <td>https://tiki.vn/o-to-xe-may-xe-dap/c8594?src=c...</td>\n",
       "      <td>NaN</td>\n",
       "      <td>2021-04-09 16:55:14</td>\n",
       "    </tr>\n",
       "    <tr>\n",
       "      <th>12</th>\n",
       "      <td>13</td>\n",
       "      <td>Hàng quốc tế</td>\n",
       "      <td>https://tiki.vn/hang-quoc-te/c17166?src=c.1716...</td>\n",
       "      <td>NaN</td>\n",
       "      <td>2021-04-09 16:55:14</td>\n",
       "    </tr>\n",
       "    <tr>\n",
       "      <th>13</th>\n",
       "      <td>14</td>\n",
       "      <td>Sách, VPP &amp; Quà Tặng</td>\n",
       "      <td>https://tiki.vn/nha-sach-tiki/c8322?src=c.8322...</td>\n",
       "      <td>NaN</td>\n",
       "      <td>2021-04-09 16:55:15</td>\n",
       "    </tr>\n",
       "    <tr>\n",
       "      <th>14</th>\n",
       "      <td>15</td>\n",
       "      <td>Voucher - Dịch Vụ - Thẻ Cào</td>\n",
       "      <td>https://tiki.vn/voucher-dich-vu/c11312?src=c.1...</td>\n",
       "      <td>NaN</td>\n",
       "      <td>2021-04-09 16:55:15</td>\n",
       "    </tr>\n",
       "    <tr>\n",
       "      <th>15</th>\n",
       "      <td>16</td>\n",
       "      <td>Phone</td>\n",
       "      <td>phone.xyz</td>\n",
       "      <td>5.0</td>\n",
       "      <td>2021-04-09 17:01:17</td>\n",
       "    </tr>\n",
       "  </tbody>\n",
       "</table>\n",
       "</div>"
      ],
      "text/plain": [
       "    id                         name  \\\n",
       "0    1   Điện Thoại - Máy Tính Bảng   \n",
       "1    2          Điện Tử - Điện Lạnh   \n",
       "2    3       Phụ Kiện - Thiết Bị Số   \n",
       "3    4         Laptop - Thiết bị IT   \n",
       "4    5          Máy Ảnh - Quay Phim   \n",
       "5    6                Điện Gia Dụng   \n",
       "6    7             Nhà Cửa Đời Sống   \n",
       "7    8   Hàng Tiêu Dùng - Thực Phẩm   \n",
       "8    9             Đồ chơi, Mẹ & Bé   \n",
       "9   10           Làm Đẹp - Sức Khỏe   \n",
       "10  11          Thể Thao - Dã Ngoại   \n",
       "11  12         Xe Máy, Ô tô, Xe Đạp   \n",
       "12  13                 Hàng quốc tế   \n",
       "13  14         Sách, VPP & Quà Tặng   \n",
       "14  15  Voucher - Dịch Vụ - Thẻ Cào   \n",
       "15  16                        Phone   \n",
       "\n",
       "                                                  url  parent_id  \\\n",
       "0   https://tiki.vn/dien-thoai-may-tinh-bang/c1789...        NaN   \n",
       "1   https://tiki.vn/tivi-thiet-bi-nghe-nhin/c4221?...        NaN   \n",
       "2   https://tiki.vn/thiet-bi-kts-phu-kien-so/c1815...        NaN   \n",
       "3   https://tiki.vn/laptop-may-vi-tinh/c1846?src=c...        NaN   \n",
       "4   https://tiki.vn/may-anh/c1801?src=c.1801.hambu...        NaN   \n",
       "5   https://tiki.vn/dien-gia-dung/c1882?src=c.1882...        NaN   \n",
       "6   https://tiki.vn/nha-cua-doi-song/c1883?src=c.1...        NaN   \n",
       "7   https://tiki.vn/bach-hoa-online/c4384?src=c.43...        NaN   \n",
       "8   https://tiki.vn/me-va-be/c2549?src=c.2549.hamb...        NaN   \n",
       "9   https://tiki.vn/lam-dep-suc-khoe/c1520?src=c.1...        NaN   \n",
       "10  https://tiki.vn/the-thao/c1975?src=c.1975.hamb...        NaN   \n",
       "11  https://tiki.vn/o-to-xe-may-xe-dap/c8594?src=c...        NaN   \n",
       "12  https://tiki.vn/hang-quoc-te/c17166?src=c.1716...        NaN   \n",
       "13  https://tiki.vn/nha-sach-tiki/c8322?src=c.8322...        NaN   \n",
       "14  https://tiki.vn/voucher-dich-vu/c11312?src=c.1...        NaN   \n",
       "15                                          phone.xyz        5.0   \n",
       "\n",
       "              create_at  \n",
       "0   2021-04-09 16:55:14  \n",
       "1   2021-04-09 16:55:14  \n",
       "2   2021-04-09 16:55:14  \n",
       "3   2021-04-09 16:55:14  \n",
       "4   2021-04-09 16:55:14  \n",
       "5   2021-04-09 16:55:14  \n",
       "6   2021-04-09 16:55:14  \n",
       "7   2021-04-09 16:55:14  \n",
       "8   2021-04-09 16:55:14  \n",
       "9   2021-04-09 16:55:14  \n",
       "10  2021-04-09 16:55:14  \n",
       "11  2021-04-09 16:55:14  \n",
       "12  2021-04-09 16:55:14  \n",
       "13  2021-04-09 16:55:15  \n",
       "14  2021-04-09 16:55:15  \n",
       "15  2021-04-09 17:01:17  "
      ]
     },
     "execution_count": 12,
     "metadata": {},
     "output_type": "execute_result"
    }
   ],
   "source": [
    "select_query('SELECT * FROM categories')"
   ]
  },
  {
   "cell_type": "code",
   "execution_count": 13,
   "metadata": {
    "id": "Uo_jCD2-B5qd"
   },
   "outputs": [],
   "source": [
    "# drop the whole table to clean things up\n",
    "cur.execute('DROP TABLE categories;')\n",
    "conn.commit()"
   ]
  },
  {
   "cell_type": "code",
   "execution_count": 15,
   "metadata": {
    "id": "Uo_jCD2-B5qd"
   },
   "outputs": [
    {
     "data": {
      "text/html": [
       "<div>\n",
       "<style scoped>\n",
       "    .dataframe tbody tr th:only-of-type {\n",
       "        vertical-align: middle;\n",
       "    }\n",
       "\n",
       "    .dataframe tbody tr th {\n",
       "        vertical-align: top;\n",
       "    }\n",
       "\n",
       "    .dataframe thead th {\n",
       "        text-align: right;\n",
       "    }\n",
       "</style>\n",
       "<table border=\"1\" class=\"dataframe\">\n",
       "  <thead>\n",
       "    <tr style=\"text-align: right;\">\n",
       "      <th></th>\n",
       "      <th>id</th>\n",
       "      <th>name</th>\n",
       "      <th>url</th>\n",
       "      <th>parent_id</th>\n",
       "      <th>create_at</th>\n",
       "    </tr>\n",
       "  </thead>\n",
       "  <tbody>\n",
       "  </tbody>\n",
       "</table>\n",
       "</div>"
      ],
      "text/plain": [
       "Empty DataFrame\n",
       "Columns: [id, name, url, parent_id, create_at]\n",
       "Index: []"
      ]
     },
     "execution_count": 15,
     "metadata": {},
     "output_type": "execute_result"
    }
   ],
   "source": [
    "# re-create our category table again\n",
    "create_categories_table()\n",
    "select_query('SELECT * FROM categories')"
   ]
  },
  {
   "cell_type": "markdown",
   "metadata": {
    "id": "0Cvy2nkODPjW"
   },
   "source": [
    "# OOP to do CRUD (create/ read/ update/ delete) on database"
   ]
  },
  {
   "cell_type": "code",
   "execution_count": 16,
   "metadata": {
    "id": "iTH0yZWpDXpg"
   },
   "outputs": [],
   "source": [
    "# Instead of using a function to do CRUD on database,\n",
    "# creating a class Category is preferred\n",
    "# attributes: name, url, parent_id\n",
    "# instance method: save_into_db()\n",
    "class Category:\n",
    "    def __init__(self, name, url, parent_id=None, cat_id=None):\n",
    "        self.cat_id = cat_id\n",
    "        self.name = name\n",
    "        self.url = url\n",
    "        self.parent_id = parent_id\n",
    "\n",
    "    def __repr__(self):\n",
    "        return f\"ID: {self.cat_id}, Name: {self.name}, URL: {self.url}, Parent: {self.parent_id}\"\n",
    "\n",
    "    def save_into_db(self):\n",
    "        query = \"\"\"\n",
    "            INSERT INTO categories (name, url, parent_id)\n",
    "            VALUES (?, ?, ?);\n",
    "        \"\"\"\n",
    "        val = (self.name, self.url, self.parent_id)\n",
    "        try:\n",
    "            cur.execute(query, val)\n",
    "            self.cat_id = cur.lastrowid\n",
    "            conn.commit()\n",
    "        except Exception as err:\n",
    "            print('ERROR BY INSERT:', err)\n"
   ]
  },
  {
   "cell_type": "markdown",
   "metadata": {
    "id": "O0XlyekOD7BW"
   },
   "source": [
    "# Get main categories"
   ]
  },
  {
   "cell_type": "code",
   "execution_count": 17,
   "metadata": {
    "id": "DxenQDGRMfAb"
   },
   "outputs": [],
   "source": [
    "# empty our category set\n",
    "CATEGORY_SET = set()"
   ]
  },
  {
   "cell_type": "code",
   "execution_count": 18,
   "metadata": {
    "id": "WEmEdAhoEbIx"
   },
   "outputs": [],
   "source": [
    "def can_add_to_cat_set(cat_name,save=False):\n",
    "  if cat_name not in CATEGORY_SET:\n",
    "    if save:\n",
    "      CATEGORY_SET.add(cat_name)\n",
    "      print(f'Added \"{cat_name}\" to CATEGORY_SET')\n",
    "    return True\n",
    "  return False\n"
   ]
  },
  {
   "cell_type": "code",
   "execution_count": 19,
   "metadata": {
    "id": "9nQQV2dgEc5c"
   },
   "outputs": [],
   "source": [
    "main_categories = [{'Name': 'Điện Thoại - Máy Tính Bảng', 'URL': 'https://tiki.vn/dien-thoai-may-tinh-bang/c1789?src=c.1789.hamburger_menu_fly_out_banner'},\n",
    "{'Name': 'Điện Tử - Điện Lạnh', 'URL': 'https://tiki.vn/tivi-thiet-bi-nghe-nhin/c4221?src=c.4221.hamburger_menu_fly_out_banner'}, \n",
    "{'Name': 'Phụ Kiện - Thiết Bị Số', 'URL': 'https://tiki.vn/thiet-bi-kts-phu-kien-so/c1815?src=c.1815.hamburger_menu_fly_out_banner'},\n",
    "{'Name': 'Laptop - Thiết bị IT', 'URL': 'https://tiki.vn/laptop-may-vi-tinh/c1846?src=c.1846.hamburger_menu_fly_out_banner'},\n",
    "{'Name': 'Máy Ảnh - Quay Phim', 'URL': 'https://tiki.vn/may-anh/c1801?src=c.1801.hamburger_menu_fly_out_banner'}, \n",
    "{'Name': 'Điện Gia Dụng', 'URL': 'https://tiki.vn/dien-gia-dung/c1882?src=c.1882.hamburger_menu_fly_out_banner'}, \n",
    "{'Name': 'Nhà Cửa Đời Sống', 'URL': 'https://tiki.vn/nha-cua-doi-song/c1883?src=c.1883.hamburger_menu_fly_out_banner'}, \n",
    "{'Name': 'Hàng Tiêu Dùng - Thực Phẩm', 'URL': 'https://tiki.vn/bach-hoa-online/c4384?src=c.4384.hamburger_menu_fly_out_banner'}, \n",
    "{'Name': 'Đồ chơi, Mẹ & Bé', 'URL': 'https://tiki.vn/me-va-be/c2549?src=c.2549.hamburger_menu_fly_out_banner'}, \n",
    "{'Name': 'Làm Đẹp - Sức Khỏe', 'URL': 'https://tiki.vn/lam-dep-suc-khoe/c1520?src=c.1520.hamburger_menu_fly_out_banner'},\n",
    "{'Name': 'Thể Thao - Dã Ngoại', 'URL': 'https://tiki.vn/the-thao/c1975?src=c.1975.hamburger_menu_fly_out_banner'},\n",
    "{'Name': 'Xe Máy, Ô tô, Xe Đạp', 'URL': 'https://tiki.vn/o-to-xe-may-xe-dap/c8594?src=c.8594.hamburger_menu_fly_out_banner'},\n",
    "{'Name': 'Hàng quốc tế', 'URL': 'https://tiki.vn/hang-quoc-te/c17166?src=c.17166.hamburger_menu_fly_out_banner'}, \n",
    "{'Name': 'Sách, VPP & Quà Tặng', 'URL': 'https://tiki.vn/nha-sach-tiki/c8322?src=c.8322.hamburger_menu_fly_out_banner'}, \n",
    "{'Name': 'Voucher - Dịch Vụ - Thẻ Cào', 'URL': 'https://tiki.vn/voucher-dich-vu/c11312?src=c.11312.hamburger_menu_fly_out_banner'}]"
   ]
  },
  {
   "cell_type": "code",
   "execution_count": 20,
   "metadata": {
    "id": "0D9QACbQLR_n"
   },
   "outputs": [],
   "source": [
    "def get_main_category(main_categories,save_db=False):\n",
    "    result=[]\n",
    "    for i in main_categories:\n",
    "        _=can_add_to_cat_set(i['Name'],save_db)\n",
    "\n",
    "        main_cat = Category(i['Name'],i['URL'])\n",
    "        if save_db:\n",
    "            main_cat.save_into_db()\n",
    "        result.append(main_cat)\n",
    "    return result"
   ]
  },
  {
   "cell_type": "code",
   "execution_count": 21,
   "metadata": {
    "colab": {
     "base_uri": "https://localhost:8080/"
    },
    "id": "hxCNpsexQa9I",
    "outputId": "05725ed5-a3a5-46d0-a9a7-67314ed782a6"
   },
   "outputs": [
    {
     "name": "stdout",
     "output_type": "stream",
     "text": [
      "Added \"Điện Thoại - Máy Tính Bảng\" to CATEGORY_SET\n",
      "Added \"Điện Tử - Điện Lạnh\" to CATEGORY_SET\n",
      "Added \"Phụ Kiện - Thiết Bị Số\" to CATEGORY_SET\n",
      "Added \"Laptop - Thiết bị IT\" to CATEGORY_SET\n",
      "Added \"Máy Ảnh - Quay Phim\" to CATEGORY_SET\n",
      "Added \"Điện Gia Dụng\" to CATEGORY_SET\n",
      "Added \"Nhà Cửa Đời Sống\" to CATEGORY_SET\n",
      "Added \"Hàng Tiêu Dùng - Thực Phẩm\" to CATEGORY_SET\n",
      "Added \"Đồ chơi, Mẹ & Bé\" to CATEGORY_SET\n",
      "Added \"Làm Đẹp - Sức Khỏe\" to CATEGORY_SET\n",
      "Added \"Thể Thao - Dã Ngoại\" to CATEGORY_SET\n",
      "Added \"Xe Máy, Ô tô, Xe Đạp\" to CATEGORY_SET\n",
      "Added \"Hàng quốc tế\" to CATEGORY_SET\n",
      "Added \"Sách, VPP & Quà Tặng\" to CATEGORY_SET\n",
      "Added \"Voucher - Dịch Vụ - Thẻ Cào\" to CATEGORY_SET\n"
     ]
    }
   ],
   "source": [
    "main_cat_objs = get_main_category(main_categories,save_db=True)"
   ]
  },
  {
   "cell_type": "code",
   "execution_count": 22,
   "metadata": {
    "colab": {
     "base_uri": "https://localhost:8080/",
     "height": 491
    },
    "id": "gBNzoogAQmyY",
    "outputId": "b7cf2095-caf5-48d6-b62c-e46c5345c8bc"
   },
   "outputs": [
    {
     "data": {
      "text/html": [
       "<div>\n",
       "<style scoped>\n",
       "    .dataframe tbody tr th:only-of-type {\n",
       "        vertical-align: middle;\n",
       "    }\n",
       "\n",
       "    .dataframe tbody tr th {\n",
       "        vertical-align: top;\n",
       "    }\n",
       "\n",
       "    .dataframe thead th {\n",
       "        text-align: right;\n",
       "    }\n",
       "</style>\n",
       "<table border=\"1\" class=\"dataframe\">\n",
       "  <thead>\n",
       "    <tr style=\"text-align: right;\">\n",
       "      <th></th>\n",
       "      <th>id</th>\n",
       "      <th>name</th>\n",
       "      <th>url</th>\n",
       "      <th>parent_id</th>\n",
       "      <th>create_at</th>\n",
       "    </tr>\n",
       "  </thead>\n",
       "  <tbody>\n",
       "    <tr>\n",
       "      <th>0</th>\n",
       "      <td>1</td>\n",
       "      <td>Điện Thoại - Máy Tính Bảng</td>\n",
       "      <td>https://tiki.vn/dien-thoai-may-tinh-bang/c1789...</td>\n",
       "      <td>None</td>\n",
       "      <td>2021-04-09 17:02:00</td>\n",
       "    </tr>\n",
       "    <tr>\n",
       "      <th>1</th>\n",
       "      <td>2</td>\n",
       "      <td>Điện Tử - Điện Lạnh</td>\n",
       "      <td>https://tiki.vn/tivi-thiet-bi-nghe-nhin/c4221?...</td>\n",
       "      <td>None</td>\n",
       "      <td>2021-04-09 17:02:01</td>\n",
       "    </tr>\n",
       "    <tr>\n",
       "      <th>2</th>\n",
       "      <td>3</td>\n",
       "      <td>Phụ Kiện - Thiết Bị Số</td>\n",
       "      <td>https://tiki.vn/thiet-bi-kts-phu-kien-so/c1815...</td>\n",
       "      <td>None</td>\n",
       "      <td>2021-04-09 17:02:01</td>\n",
       "    </tr>\n",
       "    <tr>\n",
       "      <th>3</th>\n",
       "      <td>4</td>\n",
       "      <td>Laptop - Thiết bị IT</td>\n",
       "      <td>https://tiki.vn/laptop-may-vi-tinh/c1846?src=c...</td>\n",
       "      <td>None</td>\n",
       "      <td>2021-04-09 17:02:01</td>\n",
       "    </tr>\n",
       "    <tr>\n",
       "      <th>4</th>\n",
       "      <td>5</td>\n",
       "      <td>Máy Ảnh - Quay Phim</td>\n",
       "      <td>https://tiki.vn/may-anh/c1801?src=c.1801.hambu...</td>\n",
       "      <td>None</td>\n",
       "      <td>2021-04-09 17:02:01</td>\n",
       "    </tr>\n",
       "    <tr>\n",
       "      <th>5</th>\n",
       "      <td>6</td>\n",
       "      <td>Điện Gia Dụng</td>\n",
       "      <td>https://tiki.vn/dien-gia-dung/c1882?src=c.1882...</td>\n",
       "      <td>None</td>\n",
       "      <td>2021-04-09 17:02:01</td>\n",
       "    </tr>\n",
       "    <tr>\n",
       "      <th>6</th>\n",
       "      <td>7</td>\n",
       "      <td>Nhà Cửa Đời Sống</td>\n",
       "      <td>https://tiki.vn/nha-cua-doi-song/c1883?src=c.1...</td>\n",
       "      <td>None</td>\n",
       "      <td>2021-04-09 17:02:01</td>\n",
       "    </tr>\n",
       "    <tr>\n",
       "      <th>7</th>\n",
       "      <td>8</td>\n",
       "      <td>Hàng Tiêu Dùng - Thực Phẩm</td>\n",
       "      <td>https://tiki.vn/bach-hoa-online/c4384?src=c.43...</td>\n",
       "      <td>None</td>\n",
       "      <td>2021-04-09 17:02:01</td>\n",
       "    </tr>\n",
       "    <tr>\n",
       "      <th>8</th>\n",
       "      <td>9</td>\n",
       "      <td>Đồ chơi, Mẹ &amp; Bé</td>\n",
       "      <td>https://tiki.vn/me-va-be/c2549?src=c.2549.hamb...</td>\n",
       "      <td>None</td>\n",
       "      <td>2021-04-09 17:02:01</td>\n",
       "    </tr>\n",
       "    <tr>\n",
       "      <th>9</th>\n",
       "      <td>10</td>\n",
       "      <td>Làm Đẹp - Sức Khỏe</td>\n",
       "      <td>https://tiki.vn/lam-dep-suc-khoe/c1520?src=c.1...</td>\n",
       "      <td>None</td>\n",
       "      <td>2021-04-09 17:02:01</td>\n",
       "    </tr>\n",
       "    <tr>\n",
       "      <th>10</th>\n",
       "      <td>11</td>\n",
       "      <td>Thể Thao - Dã Ngoại</td>\n",
       "      <td>https://tiki.vn/the-thao/c1975?src=c.1975.hamb...</td>\n",
       "      <td>None</td>\n",
       "      <td>2021-04-09 17:02:01</td>\n",
       "    </tr>\n",
       "    <tr>\n",
       "      <th>11</th>\n",
       "      <td>12</td>\n",
       "      <td>Xe Máy, Ô tô, Xe Đạp</td>\n",
       "      <td>https://tiki.vn/o-to-xe-may-xe-dap/c8594?src=c...</td>\n",
       "      <td>None</td>\n",
       "      <td>2021-04-09 17:02:01</td>\n",
       "    </tr>\n",
       "    <tr>\n",
       "      <th>12</th>\n",
       "      <td>13</td>\n",
       "      <td>Hàng quốc tế</td>\n",
       "      <td>https://tiki.vn/hang-quoc-te/c17166?src=c.1716...</td>\n",
       "      <td>None</td>\n",
       "      <td>2021-04-09 17:02:01</td>\n",
       "    </tr>\n",
       "    <tr>\n",
       "      <th>13</th>\n",
       "      <td>14</td>\n",
       "      <td>Sách, VPP &amp; Quà Tặng</td>\n",
       "      <td>https://tiki.vn/nha-sach-tiki/c8322?src=c.8322...</td>\n",
       "      <td>None</td>\n",
       "      <td>2021-04-09 17:02:01</td>\n",
       "    </tr>\n",
       "    <tr>\n",
       "      <th>14</th>\n",
       "      <td>15</td>\n",
       "      <td>Voucher - Dịch Vụ - Thẻ Cào</td>\n",
       "      <td>https://tiki.vn/voucher-dich-vu/c11312?src=c.1...</td>\n",
       "      <td>None</td>\n",
       "      <td>2021-04-09 17:02:01</td>\n",
       "    </tr>\n",
       "  </tbody>\n",
       "</table>\n",
       "</div>"
      ],
      "text/plain": [
       "    id                         name  \\\n",
       "0    1   Điện Thoại - Máy Tính Bảng   \n",
       "1    2          Điện Tử - Điện Lạnh   \n",
       "2    3       Phụ Kiện - Thiết Bị Số   \n",
       "3    4         Laptop - Thiết bị IT   \n",
       "4    5          Máy Ảnh - Quay Phim   \n",
       "5    6                Điện Gia Dụng   \n",
       "6    7             Nhà Cửa Đời Sống   \n",
       "7    8   Hàng Tiêu Dùng - Thực Phẩm   \n",
       "8    9             Đồ chơi, Mẹ & Bé   \n",
       "9   10           Làm Đẹp - Sức Khỏe   \n",
       "10  11          Thể Thao - Dã Ngoại   \n",
       "11  12         Xe Máy, Ô tô, Xe Đạp   \n",
       "12  13                 Hàng quốc tế   \n",
       "13  14         Sách, VPP & Quà Tặng   \n",
       "14  15  Voucher - Dịch Vụ - Thẻ Cào   \n",
       "\n",
       "                                                  url parent_id  \\\n",
       "0   https://tiki.vn/dien-thoai-may-tinh-bang/c1789...      None   \n",
       "1   https://tiki.vn/tivi-thiet-bi-nghe-nhin/c4221?...      None   \n",
       "2   https://tiki.vn/thiet-bi-kts-phu-kien-so/c1815...      None   \n",
       "3   https://tiki.vn/laptop-may-vi-tinh/c1846?src=c...      None   \n",
       "4   https://tiki.vn/may-anh/c1801?src=c.1801.hambu...      None   \n",
       "5   https://tiki.vn/dien-gia-dung/c1882?src=c.1882...      None   \n",
       "6   https://tiki.vn/nha-cua-doi-song/c1883?src=c.1...      None   \n",
       "7   https://tiki.vn/bach-hoa-online/c4384?src=c.43...      None   \n",
       "8   https://tiki.vn/me-va-be/c2549?src=c.2549.hamb...      None   \n",
       "9   https://tiki.vn/lam-dep-suc-khoe/c1520?src=c.1...      None   \n",
       "10  https://tiki.vn/the-thao/c1975?src=c.1975.hamb...      None   \n",
       "11  https://tiki.vn/o-to-xe-may-xe-dap/c8594?src=c...      None   \n",
       "12  https://tiki.vn/hang-quoc-te/c17166?src=c.1716...      None   \n",
       "13  https://tiki.vn/nha-sach-tiki/c8322?src=c.8322...      None   \n",
       "14  https://tiki.vn/voucher-dich-vu/c11312?src=c.1...      None   \n",
       "\n",
       "              create_at  \n",
       "0   2021-04-09 17:02:00  \n",
       "1   2021-04-09 17:02:01  \n",
       "2   2021-04-09 17:02:01  \n",
       "3   2021-04-09 17:02:01  \n",
       "4   2021-04-09 17:02:01  \n",
       "5   2021-04-09 17:02:01  \n",
       "6   2021-04-09 17:02:01  \n",
       "7   2021-04-09 17:02:01  \n",
       "8   2021-04-09 17:02:01  \n",
       "9   2021-04-09 17:02:01  \n",
       "10  2021-04-09 17:02:01  \n",
       "11  2021-04-09 17:02:01  \n",
       "12  2021-04-09 17:02:01  \n",
       "13  2021-04-09 17:02:01  \n",
       "14  2021-04-09 17:02:01  "
      ]
     },
     "execution_count": 22,
     "metadata": {},
     "output_type": "execute_result"
    }
   ],
   "source": [
    "select_query('SELECT * FROM CATEGORIES')"
   ]
  },
  {
   "cell_type": "markdown",
   "metadata": {
    "id": "9T8b4oR8QbkW"
   },
   "source": [
    "# Get sub categories"
   ]
  },
  {
   "cell_type": "code",
   "execution_count": 91,
   "metadata": {
    "id": "GtWRAzyHJgns"
   },
   "outputs": [],
   "source": [
    "import re\n",
    "\n",
    "# get_sub_categories() given a parent category\n",
    "def get_sub_categories(parent_category, save_db=False):\n",
    "    parent_url = parent_category.url\n",
    "    result = []\n",
    "\n",
    "    try:\n",
    "        soup = get_url(parent_url)\n",
    "        with open('test','w') as checksoup:\n",
    "            checksoup.write(soup.prettify())\n",
    "        for a in soup.find_all('a', {'class':'item item--category'}):\n",
    "            name = a.text.strip()\n",
    "            if can_add_to_cat_set(name,save_db): \n",
    "                sub_url = a['href']\n",
    "                cat = Category(name, sub_url, parent_category.cat_id) # we now have parent_id, which is cat_id of parent category\n",
    "                if save_db:\n",
    "                  cat.save_into_db()\n",
    "                result.append(cat)\n",
    "    except Exception as err:\n",
    "        print('ERROR IN GETTING SUB CATEGORIES:', err)\n",
    "    return result"
   ]
  },
  {
   "cell_type": "code",
   "execution_count": 92,
   "metadata": {
    "colab": {
     "base_uri": "https://localhost:8080/"
    },
    "id": "ITzl6V0lL5dB",
    "outputId": "f552dc1d-7f03-4bbf-f604-6dd141e712e5"
   },
   "outputs": [
    {
     "data": {
      "text/plain": [
       "ID: 1, Name: Điện Thoại - Máy Tính Bảng, URL: https://tiki.vn/dien-thoai-may-tinh-bang/c1789?src=c.1789.hamburger_menu_fly_out_banner, Parent: None"
      ]
     },
     "execution_count": 92,
     "metadata": {},
     "output_type": "execute_result"
    }
   ],
   "source": [
    "main_cat_objs[0]"
   ]
  },
  {
   "cell_type": "code",
   "execution_count": 93,
   "metadata": {
    "colab": {
     "base_uri": "https://localhost:8080/"
    },
    "id": "cl46YmwWL06o",
    "outputId": "a02100e7-6f14-47ef-cf06-b8db3713415b"
   },
   "outputs": [
    {
     "data": {
      "text/plain": [
       "[]"
      ]
     },
     "execution_count": 93,
     "metadata": {},
     "output_type": "execute_result"
    }
   ],
   "source": [
    "tmp= get_sub_categories(main_cat_objs[0], save_db=False)\n",
    "tmp"
   ]
  },
  {
   "cell_type": "code",
   "execution_count": 54,
   "metadata": {
    "colab": {
     "base_uri": "https://localhost:8080/"
    },
    "id": "q_9b6VsALtBw",
    "outputId": "485c40f3-1455-465c-eb42-ebfc16f55f6d"
   },
   "outputs": [
    {
     "name": "stdout",
     "output_type": "stream",
     "text": [
      "ID: 1, Name: Điện Thoại - Máy Tính Bảng, URL: https://tiki.vn/dien-thoai-may-tinh-bang/c1789?src=c.1789.hamburger_menu_fly_out_banner, Parent: None\n",
      "---------- Điện thoại Smartphone\n",
      "Added \"Điện thoại Smartphone\" to CATEGORY_SET\n",
      "https://tiki.vn/dien-thoai-smartphone/c1795?src=c.1789.hamburger_menu_fly_out_banner\n",
      "---------- Điện thoại phổ thông\n",
      "Added \"Điện thoại phổ thông\" to CATEGORY_SET\n",
      "https://tiki.vn/dien-thoai-pho-thong/c1796?src=c.1789.hamburger_menu_fly_out_banner\n",
      "---------- Điện thoại bàn\n",
      "Added \"Điện thoại bàn\" to CATEGORY_SET\n",
      "https://tiki.vn/dien-thoai-ban/c8061?src=c.1789.hamburger_menu_fly_out_banner\n",
      "---------- Máy đọc sách\n",
      "Added \"Máy đọc sách\" to CATEGORY_SET\n",
      "https://tiki.vn/may-doc-sach/c28856?src=c.1789.hamburger_menu_fly_out_banner\n",
      "---------- Máy tính bảng\n",
      "Added \"Máy tính bảng\" to CATEGORY_SET\n",
      "https://tiki.vn/may-tinh-bang/c1794?src=c.1789.hamburger_menu_fly_out_banner\n"
     ]
    },
    {
     "data": {
      "text/plain": [
       "[ID: 16, Name: Điện thoại Smartphone, URL: https://tiki.vn/dien-thoai-smartphone/c1795?src=c.1789.hamburger_menu_fly_out_banner, Parent: 1,\n",
       " ID: 17, Name: Điện thoại phổ thông, URL: https://tiki.vn/dien-thoai-pho-thong/c1796?src=c.1789.hamburger_menu_fly_out_banner, Parent: 1,\n",
       " ID: 18, Name: Điện thoại bàn, URL: https://tiki.vn/dien-thoai-ban/c8061?src=c.1789.hamburger_menu_fly_out_banner, Parent: 1,\n",
       " ID: 19, Name: Máy đọc sách, URL: https://tiki.vn/may-doc-sach/c28856?src=c.1789.hamburger_menu_fly_out_banner, Parent: 1,\n",
       " ID: 20, Name: Máy tính bảng, URL: https://tiki.vn/may-tinh-bang/c1794?src=c.1789.hamburger_menu_fly_out_banner, Parent: 1]"
      ]
     },
     "execution_count": 54,
     "metadata": {},
     "output_type": "execute_result"
    }
   ],
   "source": [
    "tmp = get_sub_categories(main_cat_objs[0], save_db=True)\n",
    "tmp"
   ]
  },
  {
   "cell_type": "code",
   "execution_count": 74,
   "metadata": {
    "colab": {
     "base_uri": "https://localhost:8080/",
     "height": 639
    },
    "id": "NhuMYHS4K91H",
    "outputId": "648b7575-6902-4949-aa88-0dfeee1547a7"
   },
   "outputs": [
    {
     "data": {
      "text/html": [
       "<div>\n",
       "<style scoped>\n",
       "    .dataframe tbody tr th:only-of-type {\n",
       "        vertical-align: middle;\n",
       "    }\n",
       "\n",
       "    .dataframe tbody tr th {\n",
       "        vertical-align: top;\n",
       "    }\n",
       "\n",
       "    .dataframe thead th {\n",
       "        text-align: right;\n",
       "    }\n",
       "</style>\n",
       "<table border=\"1\" class=\"dataframe\">\n",
       "  <thead>\n",
       "    <tr style=\"text-align: right;\">\n",
       "      <th></th>\n",
       "      <th>id</th>\n",
       "      <th>name</th>\n",
       "      <th>url</th>\n",
       "      <th>parent_id</th>\n",
       "      <th>create_at</th>\n",
       "    </tr>\n",
       "  </thead>\n",
       "  <tbody>\n",
       "    <tr>\n",
       "      <th>0</th>\n",
       "      <td>1</td>\n",
       "      <td>Điện Thoại - Máy Tính Bảng</td>\n",
       "      <td>https://tiki.vn/dien-thoai-may-tinh-bang/c1789...</td>\n",
       "      <td>NaN</td>\n",
       "      <td>2021-04-09 17:25:40</td>\n",
       "    </tr>\n",
       "    <tr>\n",
       "      <th>1</th>\n",
       "      <td>2</td>\n",
       "      <td>Điện Tử - Điện Lạnh</td>\n",
       "      <td>https://tiki.vn/tivi-thiet-bi-nghe-nhin/c4221?...</td>\n",
       "      <td>NaN</td>\n",
       "      <td>2021-04-09 17:25:40</td>\n",
       "    </tr>\n",
       "    <tr>\n",
       "      <th>2</th>\n",
       "      <td>3</td>\n",
       "      <td>Phụ Kiện - Thiết Bị Số</td>\n",
       "      <td>https://tiki.vn/thiet-bi-kts-phu-kien-so/c1815...</td>\n",
       "      <td>NaN</td>\n",
       "      <td>2021-04-09 17:25:40</td>\n",
       "    </tr>\n",
       "    <tr>\n",
       "      <th>3</th>\n",
       "      <td>4</td>\n",
       "      <td>Laptop - Thiết bị IT</td>\n",
       "      <td>https://tiki.vn/laptop-may-vi-tinh/c1846?src=c...</td>\n",
       "      <td>NaN</td>\n",
       "      <td>2021-04-09 17:25:40</td>\n",
       "    </tr>\n",
       "    <tr>\n",
       "      <th>4</th>\n",
       "      <td>5</td>\n",
       "      <td>Máy Ảnh - Quay Phim</td>\n",
       "      <td>https://tiki.vn/may-anh/c1801?src=c.1801.hambu...</td>\n",
       "      <td>NaN</td>\n",
       "      <td>2021-04-09 17:25:40</td>\n",
       "    </tr>\n",
       "    <tr>\n",
       "      <th>...</th>\n",
       "      <td>...</td>\n",
       "      <td>...</td>\n",
       "      <td>...</td>\n",
       "      <td>...</td>\n",
       "      <td>...</td>\n",
       "    </tr>\n",
       "    <tr>\n",
       "      <th>108</th>\n",
       "      <td>109</td>\n",
       "      <td>Hỗ trợ tình dục</td>\n",
       "      <td>https://tiki.vn/ho-tro-tinh-duc/c8142?src=c.15...</td>\n",
       "      <td>10.0</td>\n",
       "      <td>2021-04-09 17:26:51</td>\n",
       "    </tr>\n",
       "    <tr>\n",
       "      <th>109</th>\n",
       "      <td>110</td>\n",
       "      <td>Nước hoa</td>\n",
       "      <td>https://tiki.vn/nuoc-hoa/c1595?src=c.1520.hamb...</td>\n",
       "      <td>10.0</td>\n",
       "      <td>2021-04-09 17:26:51</td>\n",
       "    </tr>\n",
       "    <tr>\n",
       "      <th>110</th>\n",
       "      <td>111</td>\n",
       "      <td>Tinh dầu spa</td>\n",
       "      <td>https://tiki.vn/tinh-dau-spa/c11348?src=c.1520...</td>\n",
       "      <td>10.0</td>\n",
       "      <td>2021-04-09 17:26:51</td>\n",
       "    </tr>\n",
       "    <tr>\n",
       "      <th>111</th>\n",
       "      <td>112</td>\n",
       "      <td>Dược mỹ phẩm</td>\n",
       "      <td>https://tiki.vn/duoc-my-pham/c5874?src=c.1520....</td>\n",
       "      <td>10.0</td>\n",
       "      <td>2021-04-09 17:26:51</td>\n",
       "    </tr>\n",
       "    <tr>\n",
       "      <th>112</th>\n",
       "      <td>113</td>\n",
       "      <td>Bộ sản phẩm làm đẹp</td>\n",
       "      <td>https://tiki.vn/bo-san-pham-lam-dep/c8161?src=...</td>\n",
       "      <td>10.0</td>\n",
       "      <td>2021-04-09 17:26:51</td>\n",
       "    </tr>\n",
       "  </tbody>\n",
       "</table>\n",
       "<p>113 rows × 5 columns</p>\n",
       "</div>"
      ],
      "text/plain": [
       "      id                        name  \\\n",
       "0      1  Điện Thoại - Máy Tính Bảng   \n",
       "1      2         Điện Tử - Điện Lạnh   \n",
       "2      3      Phụ Kiện - Thiết Bị Số   \n",
       "3      4        Laptop - Thiết bị IT   \n",
       "4      5         Máy Ảnh - Quay Phim   \n",
       "..   ...                         ...   \n",
       "108  109             Hỗ trợ tình dục   \n",
       "109  110                    Nước hoa   \n",
       "110  111                Tinh dầu spa   \n",
       "111  112                Dược mỹ phẩm   \n",
       "112  113         Bộ sản phẩm làm đẹp   \n",
       "\n",
       "                                                   url  parent_id  \\\n",
       "0    https://tiki.vn/dien-thoai-may-tinh-bang/c1789...        NaN   \n",
       "1    https://tiki.vn/tivi-thiet-bi-nghe-nhin/c4221?...        NaN   \n",
       "2    https://tiki.vn/thiet-bi-kts-phu-kien-so/c1815...        NaN   \n",
       "3    https://tiki.vn/laptop-may-vi-tinh/c1846?src=c...        NaN   \n",
       "4    https://tiki.vn/may-anh/c1801?src=c.1801.hambu...        NaN   \n",
       "..                                                 ...        ...   \n",
       "108  https://tiki.vn/ho-tro-tinh-duc/c8142?src=c.15...       10.0   \n",
       "109  https://tiki.vn/nuoc-hoa/c1595?src=c.1520.hamb...       10.0   \n",
       "110  https://tiki.vn/tinh-dau-spa/c11348?src=c.1520...       10.0   \n",
       "111  https://tiki.vn/duoc-my-pham/c5874?src=c.1520....       10.0   \n",
       "112  https://tiki.vn/bo-san-pham-lam-dep/c8161?src=...       10.0   \n",
       "\n",
       "               create_at  \n",
       "0    2021-04-09 17:25:40  \n",
       "1    2021-04-09 17:25:40  \n",
       "2    2021-04-09 17:25:40  \n",
       "3    2021-04-09 17:25:40  \n",
       "4    2021-04-09 17:25:40  \n",
       "..                   ...  \n",
       "108  2021-04-09 17:26:51  \n",
       "109  2021-04-09 17:26:51  \n",
       "110  2021-04-09 17:26:51  \n",
       "111  2021-04-09 17:26:51  \n",
       "112  2021-04-09 17:26:51  \n",
       "\n",
       "[113 rows x 5 columns]"
      ]
     },
     "execution_count": 74,
     "metadata": {},
     "output_type": "execute_result"
    }
   ],
   "source": [
    "select_query('SELECT * FROM categories')"
   ]
  },
  {
   "cell_type": "markdown",
   "metadata": {
    "id": "NZhUGbeoOAD1"
   },
   "source": [
    "# Get all categories"
   ]
  },
  {
   "cell_type": "markdown",
   "metadata": {
    "id": "N5IbTwpGOCve"
   },
   "source": [
    "**What happens if that category doesn't have any subcategory**"
   ]
  },
  {
   "cell_type": "code",
   "execution_count": 88,
   "metadata": {
    "colab": {
     "base_uri": "https://localhost:8080/"
    },
    "id": "-LK03SZBOBAq",
    "outputId": "2ee92fcc-fd17-4f2a-f897-985bb8677ad3"
   },
   "outputs": [
    {
     "data": {
      "text/plain": [
       "ID: 1, Name: Điện Thoại - Máy Tính Bảng, URL: https://tiki.vn/dien-thoai-may-tinh-bang/c1789?src=c.1789.hamburger_menu_fly_out_banner, Parent: None"
      ]
     },
     "execution_count": 88,
     "metadata": {},
     "output_type": "execute_result"
    }
   ],
   "source": [
    "main_cat_objs[0]"
   ]
  },
  {
   "cell_type": "code",
   "execution_count": 89,
   "metadata": {
    "colab": {
     "base_uri": "https://localhost:8080/"
    },
    "id": "EQB2FvEeOHha",
    "outputId": "73196637-3b30-442d-fa1a-4c19dbec4f76"
   },
   "outputs": [
    {
     "name": "stdout",
     "output_type": "stream",
     "text": [
      "ID: 20, Name: Máy tính bảng, URL: https://tiki.vn/may-tinh-bang/c1794?src=c.1789.hamburger_menu_fly_out_banner, Parent: 1\n"
     ]
    }
   ],
   "source": [
    "# tmp: list of subcategories of \"Điện Thoại - Máy Tính Bảng\"\n",
    "last_cat = tmp[-1]\n",
    "print(last_cat)"
   ]
  },
  {
   "cell_type": "code",
   "execution_count": 90,
   "metadata": {
    "colab": {
     "base_uri": "https://localhost:8080/"
    },
    "id": "k5E-2yc9SI10",
    "outputId": "07952904-fec8-464f-e906-69bdd911e691"
   },
   "outputs": [
    {
     "data": {
      "text/plain": [
       "[]"
      ]
     },
     "execution_count": 90,
     "metadata": {},
     "output_type": "execute_result"
    }
   ],
   "source": [
    "get_sub_categories(last_cat)"
   ]
  },
  {
   "cell_type": "markdown",
   "metadata": {
    "id": "f2vIHkgBTI_m"
   },
   "source": [
    "**Now we can start getting all the possible categories in Tiki**"
   ]
  },
  {
   "cell_type": "markdown",
   "metadata": {
    "id": "0pUZ4jJmTtmD"
   },
   "source": [
    "# Put everything together"
   ]
  },
  {
   "cell_type": "code",
   "execution_count": null,
   "metadata": {
    "id": "OKcLz8n2TME9"
   },
   "outputs": [],
   "source": [
    "# get_all_categories() given a list of main categories (This is a recursion function)\n",
    "# def get_all_categories(categories,save_db):\n",
    "#     # if I reach the last possible category, I need to stop\n",
    "#     if len(categories) == 0:\n",
    "#         return      \n",
    "#     for cat in categories:\n",
    "#         print(f'Getting {cat} sub-categories...')\n",
    "#         sub_categories = get_sub_categories(cat, save_db=save_db)\n",
    "#         print(f'Finished! {cat.name} has {len(sub_categories)} sub-categories')\n",
    "#         get_all_categories(sub_categories,save_db=save_db)"
   ]
  },
  {
   "cell_type": "code",
   "execution_count": 78,
   "metadata": {
    "id": "Oc2xP3grYQ-9"
   },
   "outputs": [],
   "source": [
    "def get_all_categories(categories,save_db):\n",
    "    categories = categories.copy()\n",
    "    while len(categories):\n",
    "        cat_to_crawl = categories[0]\n",
    "        print(f'Getting {cat_to_crawl} sub-categories...')\n",
    "        sub_categories = get_sub_categories(cat_to_crawl, save_db=save_db)\n",
    "        print(f'Finished! {cat_to_crawl.name} has {len(sub_categories)} sub-categories')\n",
    "        categories+=sub_categories\n",
    "        del categories[0]"
   ]
  },
  {
   "cell_type": "code",
   "execution_count": 79,
   "metadata": {
    "id": "KrMVppe-TPq5"
   },
   "outputs": [],
   "source": [
    "# drop the whole table to clean things up\n",
    "cur.execute('DROP TABLE categories;')\n",
    "conn.commit()\n",
    "\n",
    "# re-create our category table again\n",
    "create_categories_table()"
   ]
  },
  {
   "cell_type": "code",
   "execution_count": 80,
   "metadata": {
    "id": "Hh7DuI_VWBH2"
   },
   "outputs": [],
   "source": [
    "# empty our category set\n",
    "CATEGORY_SET= set()"
   ]
  },
  {
   "cell_type": "code",
   "execution_count": 81,
   "metadata": {},
   "outputs": [
    {
     "data": {
      "text/html": [
       "<div>\n",
       "<style scoped>\n",
       "    .dataframe tbody tr th:only-of-type {\n",
       "        vertical-align: middle;\n",
       "    }\n",
       "\n",
       "    .dataframe tbody tr th {\n",
       "        vertical-align: top;\n",
       "    }\n",
       "\n",
       "    .dataframe thead th {\n",
       "        text-align: right;\n",
       "    }\n",
       "</style>\n",
       "<table border=\"1\" class=\"dataframe\">\n",
       "  <thead>\n",
       "    <tr style=\"text-align: right;\">\n",
       "      <th></th>\n",
       "      <th>id</th>\n",
       "      <th>name</th>\n",
       "      <th>url</th>\n",
       "      <th>parent_id</th>\n",
       "      <th>create_at</th>\n",
       "    </tr>\n",
       "  </thead>\n",
       "  <tbody>\n",
       "  </tbody>\n",
       "</table>\n",
       "</div>"
      ],
      "text/plain": [
       "Empty DataFrame\n",
       "Columns: [id, name, url, parent_id, create_at]\n",
       "Index: []"
      ]
     },
     "execution_count": 81,
     "metadata": {},
     "output_type": "execute_result"
    }
   ],
   "source": [
    "select_query('SELECT * FROM categories')"
   ]
  },
  {
   "cell_type": "code",
   "execution_count": 82,
   "metadata": {
    "colab": {
     "base_uri": "https://localhost:8080/"
    },
    "id": "uHPrum9pWJHl",
    "outputId": "12219f03-ef91-4a91-8df4-3cb54959d795"
   },
   "outputs": [
    {
     "name": "stdout",
     "output_type": "stream",
     "text": [
      "Added \"Điện Thoại - Máy Tính Bảng\" to CATEGORY_SET\n",
      "Added \"Điện Tử - Điện Lạnh\" to CATEGORY_SET\n",
      "Added \"Phụ Kiện - Thiết Bị Số\" to CATEGORY_SET\n",
      "Added \"Laptop - Thiết bị IT\" to CATEGORY_SET\n",
      "Added \"Máy Ảnh - Quay Phim\" to CATEGORY_SET\n",
      "Added \"Điện Gia Dụng\" to CATEGORY_SET\n",
      "Added \"Nhà Cửa Đời Sống\" to CATEGORY_SET\n",
      "Added \"Hàng Tiêu Dùng - Thực Phẩm\" to CATEGORY_SET\n",
      "Added \"Đồ chơi, Mẹ & Bé\" to CATEGORY_SET\n",
      "Added \"Làm Đẹp - Sức Khỏe\" to CATEGORY_SET\n",
      "Added \"Thể Thao - Dã Ngoại\" to CATEGORY_SET\n",
      "Added \"Xe Máy, Ô tô, Xe Đạp\" to CATEGORY_SET\n",
      "Added \"Hàng quốc tế\" to CATEGORY_SET\n",
      "Added \"Sách, VPP & Quà Tặng\" to CATEGORY_SET\n",
      "Added \"Voucher - Dịch Vụ - Thẻ Cào\" to CATEGORY_SET\n"
     ]
    }
   ],
   "source": [
    "main_cat_objs = get_main_category(main_categories,save_db=True)"
   ]
  },
  {
   "cell_type": "code",
   "execution_count": 83,
   "metadata": {
    "colab": {
     "base_uri": "https://localhost:8080/"
    },
    "id": "R6PyD0FFTYcm",
    "outputId": "53f3ca5b-0273-4d4b-87c1-e6bf6d02493c"
   },
   "outputs": [
    {
     "data": {
      "text/plain": [
       "[ID: 1, Name: Điện Thoại - Máy Tính Bảng, URL: https://tiki.vn/dien-thoai-may-tinh-bang/c1789?src=c.1789.hamburger_menu_fly_out_banner, Parent: None,\n",
       " ID: 2, Name: Điện Tử - Điện Lạnh, URL: https://tiki.vn/tivi-thiet-bi-nghe-nhin/c4221?src=c.4221.hamburger_menu_fly_out_banner, Parent: None,\n",
       " ID: 3, Name: Phụ Kiện - Thiết Bị Số, URL: https://tiki.vn/thiet-bi-kts-phu-kien-so/c1815?src=c.1815.hamburger_menu_fly_out_banner, Parent: None,\n",
       " ID: 4, Name: Laptop - Thiết bị IT, URL: https://tiki.vn/laptop-may-vi-tinh/c1846?src=c.1846.hamburger_menu_fly_out_banner, Parent: None,\n",
       " ID: 5, Name: Máy Ảnh - Quay Phim, URL: https://tiki.vn/may-anh/c1801?src=c.1801.hamburger_menu_fly_out_banner, Parent: None,\n",
       " ID: 6, Name: Điện Gia Dụng, URL: https://tiki.vn/dien-gia-dung/c1882?src=c.1882.hamburger_menu_fly_out_banner, Parent: None,\n",
       " ID: 7, Name: Nhà Cửa Đời Sống, URL: https://tiki.vn/nha-cua-doi-song/c1883?src=c.1883.hamburger_menu_fly_out_banner, Parent: None,\n",
       " ID: 8, Name: Hàng Tiêu Dùng - Thực Phẩm, URL: https://tiki.vn/bach-hoa-online/c4384?src=c.4384.hamburger_menu_fly_out_banner, Parent: None,\n",
       " ID: 9, Name: Đồ chơi, Mẹ & Bé, URL: https://tiki.vn/me-va-be/c2549?src=c.2549.hamburger_menu_fly_out_banner, Parent: None,\n",
       " ID: 10, Name: Làm Đẹp - Sức Khỏe, URL: https://tiki.vn/lam-dep-suc-khoe/c1520?src=c.1520.hamburger_menu_fly_out_banner, Parent: None,\n",
       " ID: 11, Name: Thể Thao - Dã Ngoại, URL: https://tiki.vn/the-thao/c1975?src=c.1975.hamburger_menu_fly_out_banner, Parent: None,\n",
       " ID: 12, Name: Xe Máy, Ô tô, Xe Đạp, URL: https://tiki.vn/o-to-xe-may-xe-dap/c8594?src=c.8594.hamburger_menu_fly_out_banner, Parent: None,\n",
       " ID: 13, Name: Hàng quốc tế, URL: https://tiki.vn/hang-quoc-te/c17166?src=c.17166.hamburger_menu_fly_out_banner, Parent: None,\n",
       " ID: 14, Name: Sách, VPP & Quà Tặng, URL: https://tiki.vn/nha-sach-tiki/c8322?src=c.8322.hamburger_menu_fly_out_banner, Parent: None,\n",
       " ID: 15, Name: Voucher - Dịch Vụ - Thẻ Cào, URL: https://tiki.vn/voucher-dich-vu/c11312?src=c.11312.hamburger_menu_fly_out_banner, Parent: None]"
      ]
     },
     "execution_count": 83,
     "metadata": {},
     "output_type": "execute_result"
    }
   ],
   "source": [
    "main_cat_objs"
   ]
  },
  {
   "cell_type": "code",
   "execution_count": 84,
   "metadata": {
    "colab": {
     "base_uri": "https://localhost:8080/",
     "height": 1000
    },
    "id": "TUxZptezTUzv",
    "outputId": "a8f21c3a-5d61-43ab-f3bb-b404dbae80c3"
   },
   "outputs": [
    {
     "name": "stdout",
     "output_type": "stream",
     "text": [
      "Getting ID: 1, Name: Điện Thoại - Máy Tính Bảng, URL: https://tiki.vn/dien-thoai-may-tinh-bang/c1789?src=c.1789.hamburger_menu_fly_out_banner, Parent: None sub-categories...\n",
      "Added \"Điện thoại Smartphone\" to CATEGORY_SET\n",
      "Added \"Điện thoại phổ thông\" to CATEGORY_SET\n",
      "Added \"Điện thoại bàn\" to CATEGORY_SET\n",
      "Added \"Máy đọc sách\" to CATEGORY_SET\n",
      "Added \"Máy tính bảng\" to CATEGORY_SET\n",
      "Finished! Điện Thoại - Máy Tính Bảng has 5 sub-categories\n",
      "Getting ID: 2, Name: Điện Tử - Điện Lạnh, URL: https://tiki.vn/tivi-thiet-bi-nghe-nhin/c4221?src=c.4221.hamburger_menu_fly_out_banner, Parent: None sub-categories...\n",
      "Added \"Âm thanh & Phụ kiện Tivi\" to CATEGORY_SET\n",
      "Added \"Tủ lạnh\" to CATEGORY_SET\n",
      "Added \"Máy lạnh - Máy điều hòa\" to CATEGORY_SET\n",
      "Added \"Máy giặt\" to CATEGORY_SET\n",
      "Added \"Tủ đông - Tủ mát\" to CATEGORY_SET\n",
      "Added \"Phụ kiện điện lạnh\" to CATEGORY_SET\n",
      "Added \"Tivi\" to CATEGORY_SET\n",
      "Added \"Máy nước nóng\" to CATEGORY_SET\n",
      "Added \"Máy rửa chén\" to CATEGORY_SET\n",
      "Added \"Máy sấy quần áo\" to CATEGORY_SET\n",
      "Added \"Tủ ướp rượu\" to CATEGORY_SET\n",
      "Finished! Điện Tử - Điện Lạnh has 11 sub-categories\n",
      "Getting ID: 3, Name: Phụ Kiện - Thiết Bị Số, URL: https://tiki.vn/thiet-bi-kts-phu-kien-so/c1815?src=c.1815.hamburger_menu_fly_out_banner, Parent: None sub-categories...\n",
      "Added \"Phụ Kiện Điện Thoại và Máy Tính Bảng\" to CATEGORY_SET\n",
      "Added \"Phụ kiện máy tính và Laptop\" to CATEGORY_SET\n",
      "Added \"Thiết Bị Âm Thanh và Phụ Kiện\" to CATEGORY_SET\n",
      "Added \"Thiết Bị Thông Minh và Linh Kiện Điện Tử\" to CATEGORY_SET\n",
      "Added \"Thiết Bị Đeo Thông Minh và Phụ Kiện\" to CATEGORY_SET\n",
      "Added \"Thiết Bị Chơi Game và Phụ Kiện\" to CATEGORY_SET\n",
      "Finished! Phụ Kiện - Thiết Bị Số has 6 sub-categories\n",
      "Getting ID: 4, Name: Laptop - Thiết bị IT, URL: https://tiki.vn/laptop-may-vi-tinh/c1846?src=c.1846.hamburger_menu_fly_out_banner, Parent: None sub-categories...\n",
      "Added \"Linh Kiện Máy Tính - Phụ Kiện Máy Tính\" to CATEGORY_SET\n",
      "Added \"Thiết Bị Văn Phòng - Thiết Bị Ngoại Vi\" to CATEGORY_SET\n",
      "Added \"Thiết Bị Mạng\" to CATEGORY_SET\n",
      "Added \"Thiết Bị Lưu Trữ\" to CATEGORY_SET\n",
      "Added \"Laptop\" to CATEGORY_SET\n",
      "Added \"PC - Máy Tính Bộ\" to CATEGORY_SET\n",
      "Finished! Laptop - Thiết bị IT has 6 sub-categories\n",
      "Getting ID: 5, Name: Máy Ảnh - Quay Phim, URL: https://tiki.vn/may-anh/c1801?src=c.1801.hamburger_menu_fly_out_banner, Parent: None sub-categories...\n",
      "Added \"Phụ Kiện Máy Ảnh, Máy Quay\" to CATEGORY_SET\n",
      "Added \"Camera Giám Sát\" to CATEGORY_SET\n",
      "Added \"Balo - Túi Đựng - Bao Da\" to CATEGORY_SET\n",
      "Added \"Camera Hành Trình - Action Camera và Phụ Kiện\" to CATEGORY_SET\n",
      "Added \"Thiết Bị Ánh Sáng\" to CATEGORY_SET\n",
      "Added \"Ống Kính - Ống Ngắm\" to CATEGORY_SET\n",
      "Added \"Ống Kính (Lens)\" to CATEGORY_SET\n",
      "Added \"Thiết Bị Quay Phim\" to CATEGORY_SET\n",
      "Added \"Máy Ảnh\" to CATEGORY_SET\n",
      "Added \"Máy Bay Camera và Phụ Kiện\" to CATEGORY_SET\n",
      "Finished! Máy Ảnh - Quay Phim has 10 sub-categories\n",
      "Getting ID: 6, Name: Điện Gia Dụng, URL: https://tiki.vn/dien-gia-dung/c1882?src=c.1882.hamburger_menu_fly_out_banner, Parent: None sub-categories...\n",
      "Added \"Đồ dùng nhà bếp\" to CATEGORY_SET\n",
      "Added \"Thiết bị gia đình\" to CATEGORY_SET\n",
      "Finished! Điện Gia Dụng has 2 sub-categories\n",
      "Getting ID: 7, Name: Nhà Cửa Đời Sống, URL: https://tiki.vn/nha-cua-doi-song/c1883?src=c.1883.hamburger_menu_fly_out_banner, Parent: None sub-categories...\n",
      "Added \"Trang trí nhà cửa\" to CATEGORY_SET\n",
      "Added \"Đồ dùng phòng ngủ\" to CATEGORY_SET\n",
      "Added \"Dụng cụ nhà bếp\" to CATEGORY_SET\n",
      "Added \"Sửa chữa nhà cửa\" to CATEGORY_SET\n",
      "Added \"Nội thất\" to CATEGORY_SET\n",
      "Added \"Đồ dùng phòng ăn\" to CATEGORY_SET\n",
      "Added \"Ngoài trời & sân vườn\" to CATEGORY_SET\n",
      "Added \"Đồ dùng và thiết bị nhà tắm\" to CATEGORY_SET\n",
      "Added \"Đèn & thiết bị chiếu sáng\" to CATEGORY_SET\n",
      "Added \"Vật phẩm phong thủy\" to CATEGORY_SET\n",
      "Added \"Đồ thờ cúng\" to CATEGORY_SET\n",
      "Added \"Hoa tươi và cây cảnh\" to CATEGORY_SET\n",
      "Added \"Bảo vệ nhà cửa\" to CATEGORY_SET\n",
      "Added \"Dụng cụ vệ sinh\" to CATEGORY_SET\n",
      "Added \"Nhạc cụ\" to CATEGORY_SET\n",
      "Added \"Ổ cắm điện\" to CATEGORY_SET\n",
      "Added \"Phụ kiện giặt ủi\" to CATEGORY_SET\n",
      "Added \"Dụng cụ diệt chuột, côn trùng\" to CATEGORY_SET\n",
      "Added \"Ổn áp, biến áp\" to CATEGORY_SET\n",
      "Added \"Thiết bị điều khiển thông minh\" to CATEGORY_SET\n",
      "Added \"Pin và dụng cụ sạc pin\" to CATEGORY_SET\n",
      "Finished! Nhà Cửa Đời Sống has 21 sub-categories\n",
      "Getting ID: 8, Name: Hàng Tiêu Dùng - Thực Phẩm, URL: https://tiki.vn/bach-hoa-online/c4384?src=c.4384.hamburger_menu_fly_out_banner, Parent: None sub-categories...\n",
      "Added \"Đồ uống - Pha chế\" to CATEGORY_SET\n",
      "Added \"Thực phẩm\" to CATEGORY_SET\n",
      "Added \"Chăm sóc thú cưng\" to CATEGORY_SET\n",
      "Added \"Chăm sóc nhà cửa\" to CATEGORY_SET\n",
      "Added \"Gia vị\" to CATEGORY_SET\n",
      "Added \"Bánh kẹo\" to CATEGORY_SET\n",
      "Added \"Đồ uống - Giải khát\" to CATEGORY_SET\n",
      "Added \"Thực phẩm bổ dưỡng\" to CATEGORY_SET\n",
      "Added \"Thực phẩm bảo vệ sức khỏe\" to CATEGORY_SET\n",
      "Added \"Thực phẩm hữu cơ\" to CATEGORY_SET\n",
      "Added \"Bộ quà tặng\" to CATEGORY_SET\n",
      "Added \"Thực phẩm cao cấp\" to CATEGORY_SET\n",
      "Added \"Thực phẩm chay\" to CATEGORY_SET\n",
      "Finished! Hàng Tiêu Dùng - Thực Phẩm has 13 sub-categories\n",
      "Getting ID: 9, Name: Đồ chơi, Mẹ & Bé, URL: https://tiki.vn/me-va-be/c2549?src=c.2549.hamburger_menu_fly_out_banner, Parent: None sub-categories...\n",
      "Added \"Thời Trang Cho Mẹ Và Bé\" to CATEGORY_SET\n",
      "Added \"Đồ chơi\" to CATEGORY_SET\n",
      "Added \"Đồ dùng cho bé\" to CATEGORY_SET\n",
      "Added \"Dinh dưỡng cho bé\" to CATEGORY_SET\n",
      "Added \"Tã, Bỉm\" to CATEGORY_SET\n",
      "Added \"Chăm sóc mẹ mang thai, sau sinh\" to CATEGORY_SET\n",
      "Added \"Dinh dưỡng cho người lớn\" to CATEGORY_SET\n",
      "Added \"Dinh dưỡng cho mẹ\" to CATEGORY_SET\n",
      "Added \"Thực phẩm ăn dặm\" to CATEGORY_SET\n",
      "Added \"Chuẩn bị mang thai\" to CATEGORY_SET\n",
      "Finished! Đồ chơi, Mẹ & Bé has 10 sub-categories\n",
      "Getting ID: 10, Name: Làm Đẹp - Sức Khỏe, URL: https://tiki.vn/lam-dep-suc-khoe/c1520?src=c.1520.hamburger_menu_fly_out_banner, Parent: None sub-categories...\n",
      "Added \"Chăm sóc da mặt\" to CATEGORY_SET\n",
      "Added \"Trang điểm\" to CATEGORY_SET\n",
      "Added \"Thực phẩm chức năng\" to CATEGORY_SET\n",
      "Added \"Chăm sóc cơ thể\" to CATEGORY_SET\n",
      "Added \"Chăm sóc cá nhân\" to CATEGORY_SET\n",
      "Added \"Chăm sóc tóc và da đầu\" to CATEGORY_SET\n",
      "Added \"Thiết bị chăm sóc sức khỏe\" to CATEGORY_SET\n",
      "Added \"Sản phẩm thiên nhiên\" to CATEGORY_SET\n",
      "Added \"Thiết bị làm đẹp\" to CATEGORY_SET\n",
      "Added \"Hỗ trợ tình dục\" to CATEGORY_SET\n",
      "Added \"Nước hoa\" to CATEGORY_SET\n",
      "Added \"Tinh dầu spa\" to CATEGORY_SET\n",
      "Added \"Dược mỹ phẩm\" to CATEGORY_SET\n",
      "Added \"Bộ sản phẩm làm đẹp\" to CATEGORY_SET\n",
      "Finished! Làm Đẹp - Sức Khỏe has 14 sub-categories\n",
      "Getting ID: 11, Name: Thể Thao - Dã Ngoại, URL: https://tiki.vn/the-thao/c1975?src=c.1975.hamburger_menu_fly_out_banner, Parent: None sub-categories...\n",
      "Added \"Đồ dùng dã ngoại\" to CATEGORY_SET\n",
      "Added \"Trang phục thể thao nữ\" to CATEGORY_SET\n",
      "Added \"Giày thể thao nam\" to CATEGORY_SET\n",
      "Added \"Trang phục thể thao nam\" to CATEGORY_SET\n",
      "Added \"Phụ kiện thể thao\" to CATEGORY_SET\n",
      "Added \"Các môn thể thao khác\" to CATEGORY_SET\n",
      "Added \"Dụng cụ - thiết bị tập thể thao\" to CATEGORY_SET\n",
      "Added \"Dụng cụ câu cá\" to CATEGORY_SET\n",
      "Added \"Thể thao dưới nước\" to CATEGORY_SET\n",
      "Added \"Các môn thể thao đồng đội\" to CATEGORY_SET\n",
      "Added \"Các môn thể thao đối kháng\" to CATEGORY_SET\n",
      "Added \"Các môn thể thao chơi vợt\" to CATEGORY_SET\n",
      "Added \"Giày thể thao nữ\" to CATEGORY_SET\n",
      "Added \"Thực phẩm bổ sung năng lượng\" to CATEGORY_SET\n",
      "Added \"Dụng cụ leo núi\" to CATEGORY_SET\n",
      "Finished! Thể Thao - Dã Ngoại has 15 sub-categories\n",
      "Getting ID: 12, Name: Xe Máy, Ô tô, Xe Đạp, URL: https://tiki.vn/o-to-xe-may-xe-dap/c8594?src=c.8594.hamburger_menu_fly_out_banner, Parent: None sub-categories...\n",
      "Added \"Phụ kiện - Chăm sóc xe\" to CATEGORY_SET\n",
      "Added \"Xe máy\" to CATEGORY_SET\n",
      "Added \"Xe điện\" to CATEGORY_SET\n",
      "Added \"Xe đạp\" to CATEGORY_SET\n",
      "Added \"Xe Scooter\" to CATEGORY_SET\n",
      "Added \"Dịch vụ, lắp đặt\" to CATEGORY_SET\n",
      "Added \"Ô tô\" to CATEGORY_SET\n",
      "Finished! Xe Máy, Ô tô, Xe Đạp has 7 sub-categories\n",
      "Getting ID: 13, Name: Hàng quốc tế, URL: https://tiki.vn/hang-quoc-te/c17166?src=c.17166.hamburger_menu_fly_out_banner, Parent: None sub-categories...\n",
      "Added \"Nhà Cửa - Đời Sống\" to CATEGORY_SET\n",
      "Added \"Ô tô, xe máy, xe đạp\" to CATEGORY_SET\n",
      "Added \"Thiết Bị Số - Phụ Kiện Số\" to CATEGORY_SET\n",
      "Added \"Thời Trang\" to CATEGORY_SET\n",
      "Added \"Thể thao - Dã ngoại\" to CATEGORY_SET\n",
      "Added \"Sách, Văn phòng phẩm & Quà lưu niệm\" to CATEGORY_SET\n",
      "Added \"Mẹ & Bé\" to CATEGORY_SET\n",
      "Added \"Máy Ảnh - Máy Quay Phim\" to CATEGORY_SET\n",
      "Added \"Bách hóa online\" to CATEGORY_SET\n"
     ]
    },
    {
     "name": "stdout",
     "output_type": "stream",
     "text": [
      "Added \"Điện gia dụng\" to CATEGORY_SET\n",
      "Added \"Laptop & Máy Vi Tính\" to CATEGORY_SET\n",
      "Added \"Sản phẩm - thiết bị công nghiệp\" to CATEGORY_SET\n",
      "Added \"Tivi & Thiết Bị Nghe Nhìn\" to CATEGORY_SET\n",
      "Added \"Artist Collection\" to CATEGORY_SET\n",
      "Finished! Hàng quốc tế has 14 sub-categories\n",
      "Getting ID: 14, Name: Sách, VPP & Quà Tặng, URL: https://tiki.vn/nha-sach-tiki/c8322?src=c.8322.hamburger_menu_fly_out_banner, Parent: None sub-categories...\n",
      "Added \"Sách tiếng Việt\" to CATEGORY_SET\n",
      "Added \"Văn phòng phẩm\" to CATEGORY_SET\n",
      "Added \"Quà lưu niệm\" to CATEGORY_SET\n",
      "Added \"English Books\" to CATEGORY_SET\n",
      "Finished! Sách, VPP & Quà Tặng has 4 sub-categories\n",
      "Getting ID: 15, Name: Voucher - Dịch Vụ - Thẻ Cào, URL: https://tiki.vn/voucher-dich-vu/c11312?src=c.11312.hamburger_menu_fly_out_banner, Parent: None sub-categories...\n",
      "Added \"Khóa học\" to CATEGORY_SET\n",
      "Added \"Du lịch - Khách sạn\" to CATEGORY_SET\n",
      "Added \"Spa & Làm đẹp\" to CATEGORY_SET\n",
      "Added \"Dịch vụ khác\" to CATEGORY_SET\n",
      "Added \"Nhà hàng - Ăn uống\" to CATEGORY_SET\n",
      "Added \"Nha khoa - Sức khỏe\" to CATEGORY_SET\n",
      "Added \"Sự kiện - Giải trí\" to CATEGORY_SET\n",
      "Added \"Phiếu quà tặng\" to CATEGORY_SET\n",
      "Finished! Voucher - Dịch Vụ - Thẻ Cào has 8 sub-categories\n",
      "Getting ID: 16, Name: Điện thoại Smartphone, URL: https://tiki.vn/dien-thoai-smartphone/c1795?src=c.1789.hamburger_menu_fly_out_banner, Parent: 1 sub-categories...\n",
      "Finished! Điện thoại Smartphone has 0 sub-categories\n",
      "Getting ID: 17, Name: Điện thoại phổ thông, URL: https://tiki.vn/dien-thoai-pho-thong/c1796?src=c.1789.hamburger_menu_fly_out_banner, Parent: 1 sub-categories...\n",
      "Finished! Điện thoại phổ thông has 0 sub-categories\n",
      "Getting ID: 18, Name: Điện thoại bàn, URL: https://tiki.vn/dien-thoai-ban/c8061?src=c.1789.hamburger_menu_fly_out_banner, Parent: 1 sub-categories...\n",
      "Finished! Điện thoại bàn has 0 sub-categories\n",
      "Getting ID: 19, Name: Máy đọc sách, URL: https://tiki.vn/may-doc-sach/c28856?src=c.1789.hamburger_menu_fly_out_banner, Parent: 1 sub-categories...\n",
      "Finished! Máy đọc sách has 0 sub-categories\n",
      "Getting ID: 20, Name: Máy tính bảng, URL: https://tiki.vn/may-tinh-bang/c1794?src=c.1789.hamburger_menu_fly_out_banner, Parent: 1 sub-categories...\n",
      "Finished! Máy tính bảng has 0 sub-categories\n",
      "Getting ID: 21, Name: Âm thanh & Phụ kiện Tivi, URL: https://tiki.vn/am-thanh-phu-kien-tivi/c26568?src=c.4221.hamburger_menu_fly_out_banner, Parent: 2 sub-categories...\n",
      "Added \"Loa\" to CATEGORY_SET\n",
      "Added \"Phụ kiện Tivi\" to CATEGORY_SET\n",
      "Added \"Receivers, Amplifier, Mixer\" to CATEGORY_SET\n",
      "Added \"Micro Karaoke - sân khấu\" to CATEGORY_SET\n",
      "Added \"Phụ kiện âm thanh\" to CATEGORY_SET\n",
      "Added \"Android TV Box, Smart Box\" to CATEGORY_SET\n",
      "Added \"Dàn âm thanh\" to CATEGORY_SET\n",
      "Added \"Đầu CD, DVD, karaoke, Blu-ray\" to CATEGORY_SET\n",
      "Added \"Máy radio cassette\" to CATEGORY_SET\n",
      "Added \"Bộ giải mã âm thanh DAC\" to CATEGORY_SET\n",
      "Added \"Thiết bị phát Streaming\" to CATEGORY_SET\n",
      "Finished! Âm thanh & Phụ kiện Tivi has 11 sub-categories\n",
      "Getting ID: 22, Name: Tủ lạnh, URL: https://tiki.vn/tu-lanh/c2328?src=c.4221.hamburger_menu_fly_out_banner, Parent: 2 sub-categories...\n",
      "Finished! Tủ lạnh has 0 sub-categories\n",
      "Getting ID: 23, Name: Máy lạnh - Máy điều hòa, URL: https://tiki.vn/may-lanh-may-dieu-hoa/c3865?src=c.4221.hamburger_menu_fly_out_banner, Parent: 2 sub-categories...\n",
      "Finished! Máy lạnh - Máy điều hòa has 0 sub-categories\n",
      "Getting ID: 24, Name: Máy giặt, URL: https://tiki.vn/may-giat/c3862?src=c.4221.hamburger_menu_fly_out_banner, Parent: 2 sub-categories...\n",
      "Finished! Máy giặt has 0 sub-categories\n",
      "Getting ID: 25, Name: Tủ đông - Tủ mát, URL: https://tiki.vn/tu-dong-tu-mat/c3868?src=c.4221.hamburger_menu_fly_out_banner, Parent: 2 sub-categories...\n",
      "Finished! Tủ đông - Tủ mát has 0 sub-categories\n",
      "Getting ID: 26, Name: Phụ kiện điện lạnh, URL: https://tiki.vn/phu-kien-dien-lanh/c8074?src=c.4221.hamburger_menu_fly_out_banner, Parent: 2 sub-categories...\n",
      "Added \"Phụ kiện, linh kiện máy lạnh\" to CATEGORY_SET\n",
      "Added \"Phụ kiện, linh kiện điện lạnh khác\" to CATEGORY_SET\n",
      "Added \"Phụ kiện, linh kiện máy giặt\" to CATEGORY_SET\n",
      "Added \"Phụ kiện, linh kiện tủ lạnh\" to CATEGORY_SET\n",
      "Added \"Phụ kiện, linh kiện máy nước nóng\" to CATEGORY_SET\n",
      "Finished! Phụ kiện điện lạnh has 5 sub-categories\n",
      "Getting ID: 27, Name: Tivi, URL: https://tiki.vn/tivi/c5015?src=c.4221.hamburger_menu_fly_out_banner, Parent: 2 sub-categories...\n",
      "Added \"Smart Tivi - Android Tivi\" to CATEGORY_SET\n",
      "Added \"Tivi 4K\" to CATEGORY_SET\n",
      "Added \"Tivi QLED\" to CATEGORY_SET\n",
      "Added \"Tivi cao cấp\" to CATEGORY_SET\n"
     ]
    },
    {
     "ename": "KeyboardInterrupt",
     "evalue": "",
     "output_type": "error",
     "traceback": [
      "\u001b[0;31m---------------------------------------------------------------------------\u001b[0m",
      "\u001b[0;31mKeyboardInterrupt\u001b[0m                         Traceback (most recent call last)",
      "\u001b[0;32m<ipython-input-84-de0d9c9de3be>\u001b[0m in \u001b[0;36m<module>\u001b[0;34m\u001b[0m\n\u001b[0;32m----> 1\u001b[0;31m \u001b[0mget_all_categories\u001b[0m\u001b[0;34m(\u001b[0m\u001b[0mmain_cat_objs\u001b[0m\u001b[0;34m,\u001b[0m\u001b[0msave_db\u001b[0m\u001b[0;34m=\u001b[0m\u001b[0;32mTrue\u001b[0m\u001b[0;34m)\u001b[0m\u001b[0;34m\u001b[0m\u001b[0;34m\u001b[0m\u001b[0m\n\u001b[0m",
      "\u001b[0;32m<ipython-input-78-4bc46468e0b4>\u001b[0m in \u001b[0;36mget_all_categories\u001b[0;34m(categories, save_db)\u001b[0m\n\u001b[1;32m      4\u001b[0m         \u001b[0mcat_to_crawl\u001b[0m \u001b[0;34m=\u001b[0m \u001b[0mcategories\u001b[0m\u001b[0;34m[\u001b[0m\u001b[0;36m0\u001b[0m\u001b[0;34m]\u001b[0m\u001b[0;34m\u001b[0m\u001b[0;34m\u001b[0m\u001b[0m\n\u001b[1;32m      5\u001b[0m         \u001b[0mprint\u001b[0m\u001b[0;34m(\u001b[0m\u001b[0;34mf'Getting {cat_to_crawl} sub-categories...'\u001b[0m\u001b[0;34m)\u001b[0m\u001b[0;34m\u001b[0m\u001b[0;34m\u001b[0m\u001b[0m\n\u001b[0;32m----> 6\u001b[0;31m         \u001b[0msub_categories\u001b[0m \u001b[0;34m=\u001b[0m \u001b[0mget_sub_categories\u001b[0m\u001b[0;34m(\u001b[0m\u001b[0mcat_to_crawl\u001b[0m\u001b[0;34m,\u001b[0m \u001b[0msave_db\u001b[0m\u001b[0;34m=\u001b[0m\u001b[0msave_db\u001b[0m\u001b[0;34m)\u001b[0m\u001b[0;34m\u001b[0m\u001b[0;34m\u001b[0m\u001b[0m\n\u001b[0m\u001b[1;32m      7\u001b[0m         \u001b[0mprint\u001b[0m\u001b[0;34m(\u001b[0m\u001b[0;34mf'Finished! {cat_to_crawl.name} has {len(sub_categories)} sub-categories'\u001b[0m\u001b[0;34m)\u001b[0m\u001b[0;34m\u001b[0m\u001b[0;34m\u001b[0m\u001b[0m\n\u001b[1;32m      8\u001b[0m         \u001b[0mcategories\u001b[0m\u001b[0;34m+=\u001b[0m\u001b[0msub_categories\u001b[0m\u001b[0;34m\u001b[0m\u001b[0;34m\u001b[0m\u001b[0m\n",
      "\u001b[0;32m<ipython-input-73-76551b80f47b>\u001b[0m in \u001b[0;36mget_sub_categories\u001b[0;34m(parent_category, save_db)\u001b[0m\n\u001b[1;32m     16\u001b[0m                 \u001b[0mcat\u001b[0m \u001b[0;34m=\u001b[0m \u001b[0mCategory\u001b[0m\u001b[0;34m(\u001b[0m\u001b[0mname\u001b[0m\u001b[0;34m,\u001b[0m \u001b[0msub_url\u001b[0m\u001b[0;34m,\u001b[0m \u001b[0mparent_category\u001b[0m\u001b[0;34m.\u001b[0m\u001b[0mcat_id\u001b[0m\u001b[0;34m)\u001b[0m \u001b[0;31m# we now have parent_id, which is cat_id of parent category\u001b[0m\u001b[0;34m\u001b[0m\u001b[0;34m\u001b[0m\u001b[0m\n\u001b[1;32m     17\u001b[0m                 \u001b[0;32mif\u001b[0m \u001b[0msave_db\u001b[0m\u001b[0;34m:\u001b[0m\u001b[0;34m\u001b[0m\u001b[0;34m\u001b[0m\u001b[0m\n\u001b[0;32m---> 18\u001b[0;31m                   \u001b[0mcat\u001b[0m\u001b[0;34m.\u001b[0m\u001b[0msave_into_db\u001b[0m\u001b[0;34m(\u001b[0m\u001b[0;34m)\u001b[0m\u001b[0;34m\u001b[0m\u001b[0;34m\u001b[0m\u001b[0m\n\u001b[0m\u001b[1;32m     19\u001b[0m                 \u001b[0mresult\u001b[0m\u001b[0;34m.\u001b[0m\u001b[0mappend\u001b[0m\u001b[0;34m(\u001b[0m\u001b[0mcat\u001b[0m\u001b[0;34m)\u001b[0m\u001b[0;34m\u001b[0m\u001b[0;34m\u001b[0m\u001b[0m\n\u001b[1;32m     20\u001b[0m     \u001b[0;32mexcept\u001b[0m \u001b[0mException\u001b[0m \u001b[0;32mas\u001b[0m \u001b[0merr\u001b[0m\u001b[0;34m:\u001b[0m\u001b[0;34m\u001b[0m\u001b[0;34m\u001b[0m\u001b[0m\n",
      "\u001b[0;32m<ipython-input-16-41d3b1002d7c>\u001b[0m in \u001b[0;36msave_into_db\u001b[0;34m(self)\u001b[0m\n\u001b[1;32m     22\u001b[0m             \u001b[0mcur\u001b[0m\u001b[0;34m.\u001b[0m\u001b[0mexecute\u001b[0m\u001b[0;34m(\u001b[0m\u001b[0mquery\u001b[0m\u001b[0;34m,\u001b[0m \u001b[0mval\u001b[0m\u001b[0;34m)\u001b[0m\u001b[0;34m\u001b[0m\u001b[0;34m\u001b[0m\u001b[0m\n\u001b[1;32m     23\u001b[0m             \u001b[0mself\u001b[0m\u001b[0;34m.\u001b[0m\u001b[0mcat_id\u001b[0m \u001b[0;34m=\u001b[0m \u001b[0mcur\u001b[0m\u001b[0;34m.\u001b[0m\u001b[0mlastrowid\u001b[0m\u001b[0;34m\u001b[0m\u001b[0;34m\u001b[0m\u001b[0m\n\u001b[0;32m---> 24\u001b[0;31m             \u001b[0mconn\u001b[0m\u001b[0;34m.\u001b[0m\u001b[0mcommit\u001b[0m\u001b[0;34m(\u001b[0m\u001b[0;34m)\u001b[0m\u001b[0;34m\u001b[0m\u001b[0;34m\u001b[0m\u001b[0m\n\u001b[0m\u001b[1;32m     25\u001b[0m         \u001b[0;32mexcept\u001b[0m \u001b[0mException\u001b[0m \u001b[0;32mas\u001b[0m \u001b[0merr\u001b[0m\u001b[0;34m:\u001b[0m\u001b[0;34m\u001b[0m\u001b[0;34m\u001b[0m\u001b[0m\n\u001b[1;32m     26\u001b[0m             \u001b[0mprint\u001b[0m\u001b[0;34m(\u001b[0m\u001b[0;34m'ERROR BY INSERT:'\u001b[0m\u001b[0;34m,\u001b[0m \u001b[0merr\u001b[0m\u001b[0;34m)\u001b[0m\u001b[0;34m\u001b[0m\u001b[0;34m\u001b[0m\u001b[0m\n",
      "\u001b[0;31mKeyboardInterrupt\u001b[0m: "
     ]
    }
   ],
   "source": [
    "get_all_categories(main_cat_objs,save_db=True)"
   ]
  },
  {
   "cell_type": "code",
   "execution_count": 85,
   "metadata": {
    "colab": {
     "base_uri": "https://localhost:8080/",
     "height": 77
    },
    "id": "VQ9saGslXx0b",
    "outputId": "3e652c40-cd78-4a3d-dad0-c2725e4b395c"
   },
   "outputs": [
    {
     "data": {
      "text/html": [
       "<div>\n",
       "<style scoped>\n",
       "    .dataframe tbody tr th:only-of-type {\n",
       "        vertical-align: middle;\n",
       "    }\n",
       "\n",
       "    .dataframe tbody tr th {\n",
       "        vertical-align: top;\n",
       "    }\n",
       "\n",
       "    .dataframe thead th {\n",
       "        text-align: right;\n",
       "    }\n",
       "</style>\n",
       "<table border=\"1\" class=\"dataframe\">\n",
       "  <thead>\n",
       "    <tr style=\"text-align: right;\">\n",
       "      <th></th>\n",
       "      <th>COUNT(*)</th>\n",
       "    </tr>\n",
       "  </thead>\n",
       "  <tbody>\n",
       "    <tr>\n",
       "      <th>0</th>\n",
       "      <td>181</td>\n",
       "    </tr>\n",
       "  </tbody>\n",
       "</table>\n",
       "</div>"
      ],
      "text/plain": [
       "   COUNT(*)\n",
       "0       181"
      ]
     },
     "execution_count": 85,
     "metadata": {},
     "output_type": "execute_result"
    }
   ],
   "source": [
    "select_query('SELECT COUNT(*) FROM categories')"
   ]
  },
  {
   "cell_type": "code",
   "execution_count": null,
   "metadata": {
    "colab": {
     "base_uri": "https://localhost:8080/",
     "height": 195
    },
    "id": "2FgnJEaSX3Ip",
    "outputId": "28502b45-10f7-447b-a7fb-9c1ef2d56f0c"
   },
   "outputs": [
    {
     "data": {
      "text/html": [
       "<div>\n",
       "<style scoped>\n",
       "    .dataframe tbody tr th:only-of-type {\n",
       "        vertical-align: middle;\n",
       "    }\n",
       "\n",
       "    .dataframe tbody tr th {\n",
       "        vertical-align: top;\n",
       "    }\n",
       "\n",
       "    .dataframe thead th {\n",
       "        text-align: right;\n",
       "    }\n",
       "</style>\n",
       "<table border=\"1\" class=\"dataframe\">\n",
       "  <thead>\n",
       "    <tr style=\"text-align: right;\">\n",
       "      <th></th>\n",
       "      <th>id</th>\n",
       "      <th>name</th>\n",
       "      <th>url</th>\n",
       "      <th>parent_id</th>\n",
       "      <th>create_at</th>\n",
       "    </tr>\n",
       "  </thead>\n",
       "  <tbody>\n",
       "    <tr>\n",
       "      <th>0</th>\n",
       "      <td>449</td>\n",
       "      <td>Nội thất khác</td>\n",
       "      <td>https://tiki.vn/noi-that-khac/c23678?src=c.188...</td>\n",
       "      <td>60</td>\n",
       "      <td>2021-04-08 17:04:14</td>\n",
       "    </tr>\n",
       "    <tr>\n",
       "      <th>1</th>\n",
       "      <td>448</td>\n",
       "      <td>Nội thất trẻ em</td>\n",
       "      <td>https://tiki.vn/noi-that-tre-em/c23662?src=c.1...</td>\n",
       "      <td>60</td>\n",
       "      <td>2021-04-08 17:04:14</td>\n",
       "    </tr>\n",
       "    <tr>\n",
       "      <th>2</th>\n",
       "      <td>447</td>\n",
       "      <td>Nội thất phòng ăn</td>\n",
       "      <td>https://tiki.vn/noi-that-phong-an/c23636?src=c...</td>\n",
       "      <td>60</td>\n",
       "      <td>2021-04-08 17:04:14</td>\n",
       "    </tr>\n",
       "    <tr>\n",
       "      <th>3</th>\n",
       "      <td>446</td>\n",
       "      <td>Nội thất phòng học, làm việc</td>\n",
       "      <td>https://tiki.vn/noi-that-phong-hoc-lam-viec/c2...</td>\n",
       "      <td>60</td>\n",
       "      <td>2021-04-08 17:04:14</td>\n",
       "    </tr>\n",
       "    <tr>\n",
       "      <th>4</th>\n",
       "      <td>445</td>\n",
       "      <td>Nội thất phòng ngủ</td>\n",
       "      <td>https://tiki.vn/noi-that-phong-ngu/c23598?src=...</td>\n",
       "      <td>60</td>\n",
       "      <td>2021-04-08 17:04:14</td>\n",
       "    </tr>\n",
       "  </tbody>\n",
       "</table>\n",
       "</div>"
      ],
      "text/plain": [
       "    id                          name  ... parent_id            create_at\n",
       "0  449                 Nội thất khác  ...        60  2021-04-08 17:04:14\n",
       "1  448               Nội thất trẻ em  ...        60  2021-04-08 17:04:14\n",
       "2  447             Nội thất phòng ăn  ...        60  2021-04-08 17:04:14\n",
       "3  446  Nội thất phòng học, làm việc  ...        60  2021-04-08 17:04:14\n",
       "4  445            Nội thất phòng ngủ  ...        60  2021-04-08 17:04:14\n",
       "\n",
       "[5 rows x 5 columns]"
      ]
     },
     "execution_count": 81,
     "metadata": {
      "tags": []
     },
     "output_type": "execute_result"
    }
   ],
   "source": [
    "select_query('SELECT * FROM categories ORDER BY ID DESC LIMIT 5')"
   ]
  },
  {
   "cell_type": "markdown",
   "metadata": {
    "id": "OQ9uaCxGo_0g"
   },
   "source": [
    "# Be aware of duplicated products"
   ]
  },
  {
   "cell_type": "markdown",
   "metadata": {
    "id": "RjFw5YSv1OM1"
   },
   "source": [
    "A problem: you will have duplicated products if you start collecting product data at higher level categories\n",
    "\n",
    "To get the product, we need to get the lowest level categories and start crawling from those urls, which means those categories (lowest level/layer) doesn't have any sub category. In other words, they will not be the parent category of any other sub category\n",
    "\n",
    "Hint: Can you write a LEFT JOIN sql query to get all sub category for each category? How can you filter out lowest layer categories using this sql query?"
   ]
  },
  {
   "cell_type": "markdown",
   "metadata": {
    "id": "NgRakoyzY11s"
   },
   "source": [
    "\n",
    "| ID | Name   | URL | Parent_ID |\n",
    "|------|------|-----|---------- |\n",
    "|  1 | Cat1 | 1.com | None      |\n",
    "| 2 | Cat2 | 2.com | 1 |\n",
    "| 3 | Cat3 | 3.com | 1 |\n",
    "| 4 | Cat4 | 4.com | 3 |\n"
   ]
  },
  {
   "cell_type": "markdown",
   "metadata": {
    "id": "eQj9KzdvXUgV"
   },
   "source": [
    "# Guidelines"
   ]
  },
  {
   "cell_type": "markdown",
   "metadata": {
    "id": "Up2yLnNMC8_9"
   },
   "source": [
    "This weekly project might be a little tougher than usual, as you have to have a clear workflow and how to organize your functions. So here is an example workflow you can follow:\n",
    "\n",
    "- Step 1: Build and fill your Category table using example code in the notebook\n",
    "\n",
    "- Step 2: Create a function to get the list of URLs of lowest layer categories (This list can have +2000 categories)\n",
    "\n",
    "- Step 3: Break this list into smaller sublists (using python slicing). \n",
    "By doing this, it's easier to assign tasks to your teammates: each member can take care of a portion of the list. \n",
    "Also you don't want to let your computer run a loop through 1 single list. If it crashes and you don't have a caching mechanism, you will lose all your work!\n",
    "\n",
    "- Step 4: For each category URL of a sublist, crawl all the products per page (**recommended number of pages to crawl: 2 pages per category**, but feel free to go for more) and save them into your PRODUCT table\n",
    "\n",
    "- Step 5: Use SQL to extract useful information out of this dataset you just collected. For example, what is the most expensive item for each categories? Which catogory contains the most items? Which category/product has the highest reviews or ratings ...? This kind of analysis will help you prepare for next week material: Data Module with Nhan!\n",
    "\n",
    "\n",
    "Note: You might want to store Product_ID or Category_ID of the last crawled item, so that if your computer crashes and you have to start over again, you can start from these IDs instead of starting from scratch.\n",
    "\n",
    "And make sure to put sleep() when you crawl, otherwise you will crash very often as Tiki will try to block your IP."
   ]
  },
  {
   "cell_type": "code",
   "execution_count": null,
   "metadata": {
    "id": "8ga1BwNSTJ7g"
   },
   "outputs": [],
   "source": []
  }
 ],
 "metadata": {
  "colab": {
   "collapsed_sections": [],
   "name": "Copy of 2.5_WeeklyProject_Get_Tiki_main_categories_sub_categories.ipynb",
   "provenance": []
  },
  "kernelspec": {
   "display_name": "Python 3",
   "language": "python",
   "name": "python3"
  },
  "language_info": {
   "codemirror_mode": {
    "name": "ipython",
    "version": 3
   },
   "file_extension": ".py",
   "mimetype": "text/x-python",
   "name": "python",
   "nbconvert_exporter": "python",
   "pygments_lexer": "ipython3",
   "version": "3.7.10"
  }
 },
 "nbformat": 4,
 "nbformat_minor": 1
}
